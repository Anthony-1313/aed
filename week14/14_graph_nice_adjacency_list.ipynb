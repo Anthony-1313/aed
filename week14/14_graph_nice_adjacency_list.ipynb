{
  "nbformat": 4,
  "nbformat_minor": 0,
  "metadata": {
    "colab": {
      "name": "14-graph-nice-adjacency-list.ipynb",
      "provenance": [],
      "authorship_tag": "ABX9TyP/vpqGWbXnEj6QSNBuXPOF",
      "include_colab_link": true
    },
    "kernelspec": {
      "name": "python3",
      "display_name": "Python 3"
    }
  },
  "cells": [
    {
      "cell_type": "markdown",
      "metadata": {
        "id": "view-in-github",
        "colab_type": "text"
      },
      "source": [
        "<a href=\"https://colab.research.google.com/github/pcsilcan/aed/blob/master/week14/14_graph_nice_adjacency_list.ipynb\" target=\"_parent\"><img src=\"https://colab.research.google.com/assets/colab-badge.svg\" alt=\"Open In Colab\"/></a>"
      ]
    },
    {
      "cell_type": "code",
      "metadata": {
        "id": "ne1-bfno45MN",
        "colab_type": "code",
        "colab": {
          "base_uri": "https://localhost:8080/",
          "height": 34
        },
        "outputId": "8e79da99-0e52-41bd-ce6b-aff428ab5f86"
      },
      "source": [
        "%%writefile graph.h\n",
        "#ifndef __GRAPH_H__\n",
        "#define __GRAPH_H__\n",
        "\n",
        "#include <fstream>\n",
        "#include <map>\n",
        "#include <queue>\n",
        "#include <string>\n",
        "#include <vector>\n",
        "\n",
        "using namespace std;\n",
        "\n",
        "typedef pair<int, float>    edge;\n",
        "typedef vector<edge>        vp;\n",
        "typedef vector<vp>          vvp;\n",
        "\n",
        "/*\n",
        "\n",
        "nodeNames:\n",
        "    \"felipe\": 0\n",
        "    \"rosa\"  : 1\n",
        "    \"jose\"  : 2\n",
        "    \"ricky\" : 3\n",
        "    \"vicky\" : 4\n",
        "    ...\n",
        "\n",
        "G:\n",
        "    0: (2, 1.0), (4, 1.0)\n",
        "    1: (3, 1.0)\n",
        "    2: (0, 1.0)\n",
        "    3: (1, 1.0), (4, 1.0)\n",
        "    4: (0, 1.0), (3, 1.0)\n",
        "\n",
        "*/\n",
        "\n",
        "class Graph {\n",
        "    vvp                 G;\n",
        "    bool                directed;\n",
        "    map<string, int>    name2i;\n",
        "    vector<string>      i2name;\n",
        "\n",
        "public:\n",
        "    Graph(bool directed=true) : directed(directed) {}\n",
        "\n",
        "    void addNode(string nodeName) {\n",
        "        name2i[nodeName] = G.size();\n",
        "        i2name.push_back(nodeName);\n",
        "        G.push_back(vp());\n",
        "    }\n",
        "    void addEdge(string nameU, string nameV, float w=1.0) {\n",
        "        int u = name2i[nameU];\n",
        "        int v = name2i[nameV];\n",
        "        G[u].push_back(edge(v, w));\n",
        "        if (!directed) {\n",
        "            G[v].push_back(edge(u, w));\n",
        "        }\n",
        "    }\n",
        "\n",
        "    map<string, string> bfs(string nameS) {\n",
        "        auto s          = name2i[nameS];\n",
        "        auto n          = G.size();\n",
        "        vector<bool>    visited(n, false);\n",
        "        vector<int>     path(n, -1);\n",
        "        queue<int>      q;\n",
        "\n",
        "        visited[s] = true;\n",
        "        q.push(s);\n",
        "        while (!q.empty()) {\n",
        "            auto u = q.front();\n",
        "            for (auto edge : G[u]) {\n",
        "                auto v = edge.first;\n",
        "                if (!visited[v]) {\n",
        "                    visited[v] = true;\n",
        "                    path[v] = u;\n",
        "                    q.push(v);\n",
        "                }\n",
        "            }\n",
        "            q.pop();\n",
        "        }\n",
        "        map<string, string> result;\n",
        "        for (int i = 0; i < n; ++i) {\n",
        "            result[i2name[i]] = path[i] == -1? \"\" : i2name[path[i]];\n",
        "        }\n",
        "\n",
        "        return result;\n",
        "    }\n",
        "\n",
        "    void saveDot(string fileName) {\n",
        "        ofstream dot(fileName);\n",
        "        string rel = directed? \"->\" : \"--\";\n",
        "        \n",
        "        dot << (directed? \"digraph\" : \"strict graph\") << \" G {\\n\";\n",
        "        for (auto kv : name2i) {\n",
        "            dot << \"    \" << kv.second << \"[label=\\\"\" << kv.first << \"\\\"];\\n\";\n",
        "        }\n",
        "        dot << endl;\n",
        "        for (auto kv : name2i) {\n",
        "            auto u = kv.second;\n",
        "            for (auto edge : G[u]) {\n",
        "                auto v = edge.first;\n",
        "                auto w = edge.second;\n",
        "                dot << \"    \" << u << rel << v << \";\\n\";\n",
        "            }\n",
        "        }\n",
        "        dot << \"}\";\n",
        "    }\n",
        "};\n",
        "\n",
        "#endif"
      ],
      "execution_count": 24,
      "outputs": [
        {
          "output_type": "stream",
          "text": [
            "Overwriting graph.h\n"
          ],
          "name": "stdout"
        }
      ]
    },
    {
      "cell_type": "code",
      "metadata": {
        "id": "HB0amzdg-3Tr",
        "colab_type": "code",
        "colab": {
          "base_uri": "https://localhost:8080/",
          "height": 34
        },
        "outputId": "077f71b0-b20a-47dd-e5fd-7e72edf6f3c3"
      },
      "source": [
        "%%writefile graphTest.cpp\n",
        "#include <iostream>\n",
        "#include \"graph.h\"\n",
        "\n",
        "using namespace std;\n",
        "\n",
        "int main() {\n",
        "    Graph* G = new Graph(false);\n",
        "\n",
        "    G->addNode(\"felipe\");\n",
        "    G->addNode(\"rosa\");\n",
        "    G->addNode(\"jose\");\n",
        "    G->addNode(\"ricky\");\n",
        "    G->addNode(\"vicky\");\n",
        "\n",
        "    G->addEdge(\"felipe\", \"jose\");\n",
        "    G->addEdge(\"felipe\", \"vicky\");\n",
        "    G->addEdge(\"rosa\", \"ricky\");\n",
        "    G->addEdge(\"ricky\", \"vicky\");\n",
        "\n",
        "    auto result = G->bfs(\"felipe\");\n",
        "\n",
        "    for (auto kv : result) {\n",
        "        cout << kv.first << \"\\t: \" << kv.second << endl;\n",
        "    }\n",
        "\n",
        "    G->saveDot(\"amigos.dot\");\n",
        "\n",
        "    delete G;\n",
        "    return 0;\n",
        "}"
      ],
      "execution_count": 22,
      "outputs": [
        {
          "output_type": "stream",
          "text": [
            "Overwriting graphTest.cpp\n"
          ],
          "name": "stdout"
        }
      ]
    },
    {
      "cell_type": "code",
      "metadata": {
        "id": "Z2rLayvs_0Gh",
        "colab_type": "code",
        "colab": {
          "base_uri": "https://localhost:8080/",
          "height": 370
        },
        "outputId": "1d0823b6-eb62-4ad1-fbb6-fbb39bb7478d"
      },
      "source": [
        "%%script bash\n",
        "g++ -std=c++17 graphTest.cpp    \\\n",
        "    && ./a.out                  \\\n",
        "    && cat amigos.dot"
      ],
      "execution_count": 25,
      "outputs": [
        {
          "output_type": "stream",
          "text": [
            "felipe\t: \n",
            "jose\t: felipe\n",
            "ricky\t: vicky\n",
            "rosa\t: ricky\n",
            "vicky\t: felipe\n",
            "strict graph G {\n",
            "    0[label=\"felipe\"];\n",
            "    2[label=\"jose\"];\n",
            "    3[label=\"ricky\"];\n",
            "    1[label=\"rosa\"];\n",
            "    4[label=\"vicky\"];\n",
            "\n",
            "    0--2;\n",
            "    0--4;\n",
            "    2--0;\n",
            "    3--1;\n",
            "    3--4;\n",
            "    1--3;\n",
            "    4--0;\n",
            "    4--3;\n",
            "}"
          ],
          "name": "stdout"
        }
      ]
    },
    {
      "cell_type": "code",
      "metadata": {
        "id": "6uWnqn50ACLl",
        "colab_type": "code",
        "colab": {
          "base_uri": "https://localhost:8080/",
          "height": 176
        },
        "outputId": "5052681b-2224-493a-cd6f-9b07e34483f4"
      },
      "source": [
        "import graphviz\n",
        "graphviz.Source.from_file(\"amigos.dot\")"
      ],
      "execution_count": 15,
      "outputs": [
        {
          "output_type": "execute_result",
          "data": {
            "text/plain": [
              "<graphviz.files.Source at 0x7fd87d405400>"
            ],
            "image/svg+xml": "<?xml version=\"1.0\" encoding=\"UTF-8\" standalone=\"no\"?>\n<!DOCTYPE svg PUBLIC \"-//W3C//DTD SVG 1.1//EN\"\n \"http://www.w3.org/Graphics/SVG/1.1/DTD/svg11.dtd\">\n<!-- Generated by graphviz version 2.40.1 (20161225.0304)\n -->\n<!-- Title: G Pages: 1 -->\n<svg width=\"216pt\" height=\"116pt\"\n viewBox=\"0.00 0.00 216.00 116.00\" xmlns=\"http://www.w3.org/2000/svg\" xmlns:xlink=\"http://www.w3.org/1999/xlink\">\n<g id=\"graph0\" class=\"graph\" transform=\"scale(1 1) rotate(0) translate(4 112)\">\n<title>G</title>\n<polygon fill=\"#ffffff\" stroke=\"transparent\" points=\"-4,4 -4,-112 212,-112 212,4 -4,4\"/>\n<!-- 0 -->\n<g id=\"node1\" class=\"node\">\n<title>0</title>\n<ellipse fill=\"none\" stroke=\"#000000\" cx=\"64\" cy=\"-90\" rx=\"31.3957\" ry=\"18\"/>\n<text text-anchor=\"middle\" x=\"64\" y=\"-86.3\" font-family=\"Times,serif\" font-size=\"14.00\" fill=\"#000000\">felipe</text>\n</g>\n<!-- 2 -->\n<g id=\"node2\" class=\"node\">\n<title>2</title>\n<ellipse fill=\"none\" stroke=\"#000000\" cx=\"27\" cy=\"-18\" rx=\"27\" ry=\"18\"/>\n<text text-anchor=\"middle\" x=\"27\" y=\"-14.3\" font-family=\"Times,serif\" font-size=\"14.00\" fill=\"#000000\">jose</text>\n</g>\n<!-- 0&#45;&#45;2 -->\n<g id=\"edge1\" class=\"edge\">\n<title>0&#45;&#45;2</title>\n<path fill=\"none\" stroke=\"#000000\" d=\"M55.0433,-72.5708C49.226,-61.2506 41.675,-46.5568 35.8742,-35.2687\"/>\n</g>\n<!-- 4 -->\n<g id=\"node5\" class=\"node\">\n<title>4</title>\n<ellipse fill=\"none\" stroke=\"#000000\" cx=\"104\" cy=\"-18\" rx=\"31.6951\" ry=\"18\"/>\n<text text-anchor=\"middle\" x=\"104\" y=\"-14.3\" font-family=\"Times,serif\" font-size=\"14.00\" fill=\"#000000\">vicky</text>\n</g>\n<!-- 0&#45;&#45;4 -->\n<g id=\"edge2\" class=\"edge\">\n<title>0&#45;&#45;4</title>\n<path fill=\"none\" stroke=\"#000000\" d=\"M73.6829,-72.5708C79.9719,-61.2506 88.1351,-46.5568 94.4063,-35.2687\"/>\n</g>\n<!-- 3 -->\n<g id=\"node3\" class=\"node\">\n<title>3</title>\n<ellipse fill=\"none\" stroke=\"#000000\" cx=\"162\" cy=\"-90\" rx=\"29.795\" ry=\"18\"/>\n<text text-anchor=\"middle\" x=\"162\" y=\"-86.3\" font-family=\"Times,serif\" font-size=\"14.00\" fill=\"#000000\">ricky</text>\n</g>\n<!-- 1 -->\n<g id=\"node4\" class=\"node\">\n<title>1</title>\n<ellipse fill=\"none\" stroke=\"#000000\" cx=\"181\" cy=\"-18\" rx=\"27\" ry=\"18\"/>\n<text text-anchor=\"middle\" x=\"181\" y=\"-14.3\" font-family=\"Times,serif\" font-size=\"14.00\" fill=\"#000000\">rosa</text>\n</g>\n<!-- 3&#45;&#45;1 -->\n<g id=\"edge3\" class=\"edge\">\n<title>3&#45;&#45;1</title>\n<path fill=\"none\" stroke=\"#000000\" d=\"M166.6966,-72.2022C169.6197,-61.1252 173.3662,-46.928 176.2916,-35.8425\"/>\n</g>\n<!-- 3&#45;&#45;4 -->\n<g id=\"edge4\" class=\"edge\">\n<title>3&#45;&#45;4</title>\n<path fill=\"none\" stroke=\"#000000\" d=\"M148.8389,-73.6621C139.4805,-62.0448 126.9478,-46.4869 117.5115,-34.7729\"/>\n</g>\n</g>\n</svg>\n"
          },
          "metadata": {
            "tags": []
          },
          "execution_count": 15
        }
      ]
    },
    {
      "cell_type": "code",
      "metadata": {
        "id": "bm_v3PaRAhu7",
        "colab_type": "code",
        "colab": {}
      },
      "source": [
        ""
      ],
      "execution_count": null,
      "outputs": []
    }
  ]
}