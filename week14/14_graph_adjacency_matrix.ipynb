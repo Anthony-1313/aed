{
  "nbformat": 4,
  "nbformat_minor": 0,
  "metadata": {
    "colab": {
      "name": "14-graph-adjacency-matrix.ipynb",
      "provenance": [],
      "authorship_tag": "ABX9TyPqnL3xlKyKZmFCzbVr5L33",
      "include_colab_link": true
    },
    "kernelspec": {
      "name": "python3",
      "display_name": "Python 3"
    }
  },
  "cells": [
    {
      "cell_type": "markdown",
      "metadata": {
        "id": "view-in-github",
        "colab_type": "text"
      },
      "source": [
        "<a href=\"https://colab.research.google.com/github/pcsilcan/aed/blob/master/week14/14_graph_adjacency_matrix.ipynb\" target=\"_parent\"><img src=\"https://colab.research.google.com/assets/colab-badge.svg\" alt=\"Open In Colab\"/></a>"
      ]
    },
    {
      "cell_type": "code",
      "metadata": {
        "id": "HPIYnyt1SLkT",
        "colab_type": "code",
        "colab": {
          "base_uri": "https://localhost:8080/",
          "height": 34
        },
        "outputId": "dd4bbef2-8264-4c42-863c-607777a7c298"
      },
      "source": [
        "%%writefile graph.h\n",
        "#ifndef __GRAPH_H__\n",
        "#define __GRAPH_H__\n",
        "\n",
        "#include <vector>\n",
        "#include <fstream>\n",
        "#include <string>\n",
        "#include <queue>\n",
        "\n",
        "using namespace std;\n",
        "\n",
        "typedef vector<int> vi;\n",
        "typedef vector<vi> vii;\n",
        "\n",
        "class Graph {\n",
        "    vii g;\n",
        "    bool directed;\n",
        "\n",
        "public:\n",
        "    Graph(int n, bool directed=true): g(n, vi(n, 0)), directed(directed) {}\n",
        "    void edge(int u, int v) {\n",
        "        g[u][v] = 1;\n",
        "        if (!directed) {\n",
        "            g[v][u] = 1;\n",
        "        }\n",
        "    }\n",
        "    \n",
        "    // s: source o vertice inicial\n",
        "    vi bfs(int s) {\n",
        "        int n = g.size();\n",
        "        vector<bool>    visited(n, false);\n",
        "        vi              path(n, -1);\n",
        "        queue<int>      q;\n",
        "\n",
        "        visited[s] = true;\n",
        "        q.push(s);\n",
        "        while (!q.empty()) {\n",
        "            int u = q.front(); q.pop();\n",
        "            for (int v = 0; v < n; ++v) {\n",
        "                if (g[u][v] != 0 && !visited[v]) {\n",
        "                    visited[v] = true;\n",
        "                    path[v] = u;\n",
        "                    q.push(v);\n",
        "                }\n",
        "            }\n",
        "        }\n",
        "        return path;\n",
        "    }\n",
        "    void savedot(string filename) {\n",
        "        ofstream file(filename);\n",
        "        string rel;\n",
        "        if (directed) {\n",
        "            file << \"digraph G {\\n\";\n",
        "            rel = \"->\";\n",
        "        } else {\n",
        "            file << \"strict graph G {\\n\";\n",
        "            rel = \"--\";\n",
        "        }\n",
        "        for (int u = 0; u < g.size(); ++u) {\n",
        "            for (int v = 0; v < g.size(); ++v) {\n",
        "                if (g[u][v] != 0) {\n",
        "                    file << \"\\t\" << u << rel << v << \";\\n\";\n",
        "                }\n",
        "            }\n",
        "        }\n",
        "        file << \"}\";\n",
        "    }\n",
        "};\n",
        "\n",
        "#endif"
      ],
      "execution_count": null,
      "outputs": [
        {
          "output_type": "stream",
          "text": [
            "Overwriting graph.h\n"
          ],
          "name": "stdout"
        }
      ]
    },
    {
      "cell_type": "code",
      "metadata": {
        "id": "p2DBvuEHV2hp",
        "colab_type": "code",
        "colab": {
          "base_uri": "https://localhost:8080/",
          "height": 34
        },
        "outputId": "0398caac-5abd-4601-b743-93af9c0f551d"
      },
      "source": [
        "%%writefile amgraphTest.cpp\n",
        "#include <iostream>\n",
        "#include \"graph.h\"\n",
        "\n",
        "using namespace std;\n",
        "\n",
        "int main() {\n",
        "    Graph* g = new Graph(8, false);\n",
        "\n",
        "    g->edge(0, 1);\n",
        "    g->edge(0, 2);\n",
        "    g->edge(0, 4);\n",
        "    g->edge(1, 3);\n",
        "    g->edge(1, 6);\n",
        "    g->edge(2, 4);\n",
        "    g->edge(3, 5);\n",
        "    g->edge(3, 7);\n",
        "    g->edge(4, 6);\n",
        "    g->edge(4, 7);\n",
        "    g->edge(6, 7);\n",
        "\n",
        "    vi path = g->bfs(0);\n",
        "\n",
        "    for (auto x : path) {\n",
        "        cout << x << \" \";\n",
        "    }\n",
        "    cout << endl;\n",
        "\n",
        "    g->savedot(\"uno.dot\");\n",
        "\n",
        "    delete g;\n",
        "    return 0;\n",
        "}"
      ],
      "execution_count": null,
      "outputs": [
        {
          "output_type": "stream",
          "text": [
            "Overwriting amgraphTest.cpp\n"
          ],
          "name": "stdout"
        }
      ]
    },
    {
      "cell_type": "code",
      "metadata": {
        "id": "mCrXCTajWbtw",
        "colab_type": "code",
        "colab": {
          "base_uri": "https://localhost:8080/",
          "height": 34
        },
        "outputId": "ebba75df-5954-44f4-d58d-06ecb30828c2"
      },
      "source": [
        "%%script bash\n",
        "g++ -std=c++17 amgraphTest.cpp && ./a.out"
      ],
      "execution_count": null,
      "outputs": [
        {
          "output_type": "stream",
          "text": [
            "-1 0 0 1 0 3 1 4 \n"
          ],
          "name": "stdout"
        }
      ]
    },
    {
      "cell_type": "code",
      "metadata": {
        "id": "m9kzqu-bWj2C",
        "colab_type": "code",
        "colab": {
          "base_uri": "https://localhost:8080/",
          "height": 420
        },
        "outputId": "e0c69b9f-3ae7-4586-cf81-a8eb7d215b1e"
      },
      "source": [
        "!cat uno.dot"
      ],
      "execution_count": null,
      "outputs": [
        {
          "output_type": "stream",
          "text": [
            "strict graph G {\n",
            "\t0--1;\n",
            "\t0--2;\n",
            "\t0--4;\n",
            "\t1--0;\n",
            "\t1--3;\n",
            "\t1--6;\n",
            "\t2--0;\n",
            "\t2--4;\n",
            "\t3--1;\n",
            "\t3--5;\n",
            "\t3--7;\n",
            "\t4--0;\n",
            "\t4--2;\n",
            "\t4--6;\n",
            "\t4--7;\n",
            "\t5--3;\n",
            "\t6--1;\n",
            "\t6--4;\n",
            "\t6--7;\n",
            "\t7--3;\n",
            "\t7--4;\n",
            "\t7--6;\n",
            "}"
          ],
          "name": "stdout"
        }
      ]
    },
    {
      "cell_type": "code",
      "metadata": {
        "id": "whezF-gMWwvz",
        "colab_type": "code",
        "colab": {
          "base_uri": "https://localhost:8080/",
          "height": 464
        },
        "outputId": "281436a4-fac4-43bd-851a-5d54e1bf6c8f"
      },
      "source": [
        "import graphviz as gv\n",
        "gv.Source.from_file(\"uno.dot\")"
      ],
      "execution_count": null,
      "outputs": [
        {
          "output_type": "execute_result",
          "data": {
            "text/plain": [
              "<graphviz.files.Source at 0x7fba8c6d6358>"
            ],
            "image/svg+xml": "<?xml version=\"1.0\" encoding=\"UTF-8\" standalone=\"no\"?>\n<!DOCTYPE svg PUBLIC \"-//W3C//DTD SVG 1.1//EN\"\n \"http://www.w3.org/Graphics/SVG/1.1/DTD/svg11.dtd\">\n<!-- Generated by graphviz version 2.40.1 (20161225.0304)\n -->\n<!-- Title: G Pages: 1 -->\n<svg width=\"153pt\" height=\"332pt\"\n viewBox=\"0.00 0.00 153.00 332.00\" xmlns=\"http://www.w3.org/2000/svg\" xmlns:xlink=\"http://www.w3.org/1999/xlink\">\n<g id=\"graph0\" class=\"graph\" transform=\"scale(1 1) rotate(0) translate(4 328)\">\n<title>G</title>\n<polygon fill=\"#ffffff\" stroke=\"transparent\" points=\"-4,4 -4,-328 149,-328 149,4 -4,4\"/>\n<!-- 0 -->\n<g id=\"node1\" class=\"node\">\n<title>0</title>\n<ellipse fill=\"none\" stroke=\"#000000\" cx=\"82\" cy=\"-306\" rx=\"27\" ry=\"18\"/>\n<text text-anchor=\"middle\" x=\"82\" y=\"-302.3\" font-family=\"Times,serif\" font-size=\"14.00\" fill=\"#000000\">0</text>\n</g>\n<!-- 1 -->\n<g id=\"node2\" class=\"node\">\n<title>1</title>\n<ellipse fill=\"none\" stroke=\"#000000\" cx=\"27\" cy=\"-162\" rx=\"27\" ry=\"18\"/>\n<text text-anchor=\"middle\" x=\"27\" y=\"-158.3\" font-family=\"Times,serif\" font-size=\"14.00\" fill=\"#000000\">1</text>\n</g>\n<!-- 0&#45;&#45;1 -->\n<g id=\"edge1\" class=\"edge\">\n<title>0&#45;&#45;1</title>\n<path fill=\"none\" stroke=\"#000000\" d=\"M68.9011,-289.9153C61.1559,-279.6387 51.7648,-265.7102 46,-252 36.0345,-228.2992 31.0888,-198.8125 28.7905,-180.1917\"/>\n</g>\n<!-- 2 -->\n<g id=\"node3\" class=\"node\">\n<title>2</title>\n<ellipse fill=\"none\" stroke=\"#000000\" cx=\"82\" cy=\"-234\" rx=\"27\" ry=\"18\"/>\n<text text-anchor=\"middle\" x=\"82\" y=\"-230.3\" font-family=\"Times,serif\" font-size=\"14.00\" fill=\"#000000\">2</text>\n</g>\n<!-- 0&#45;&#45;2 -->\n<g id=\"edge2\" class=\"edge\">\n<title>0&#45;&#45;2</title>\n<path fill=\"none\" stroke=\"#000000\" d=\"M82,-287.8314C82,-277 82,-263.2876 82,-252.4133\"/>\n</g>\n<!-- 4 -->\n<g id=\"node4\" class=\"node\">\n<title>4</title>\n<ellipse fill=\"none\" stroke=\"#000000\" cx=\"118\" cy=\"-162\" rx=\"27\" ry=\"18\"/>\n<text text-anchor=\"middle\" x=\"118\" y=\"-158.3\" font-family=\"Times,serif\" font-size=\"14.00\" fill=\"#000000\">4</text>\n</g>\n<!-- 0&#45;&#45;4 -->\n<g id=\"edge3\" class=\"edge\">\n<title>0&#45;&#45;4</title>\n<path fill=\"none\" stroke=\"#000000\" d=\"M96.1229,-290.2844C104.2535,-280.1468 113.6901,-266.2347 118,-252 125.2899,-227.9232 123.4105,-198.5334 121.0117,-180.0363\"/>\n</g>\n<!-- 3 -->\n<g id=\"node5\" class=\"node\">\n<title>3</title>\n<ellipse fill=\"none\" stroke=\"#000000\" cx=\"27\" cy=\"-90\" rx=\"27\" ry=\"18\"/>\n<text text-anchor=\"middle\" x=\"27\" y=\"-86.3\" font-family=\"Times,serif\" font-size=\"14.00\" fill=\"#000000\">3</text>\n</g>\n<!-- 1&#45;&#45;3 -->\n<g id=\"edge4\" class=\"edge\">\n<title>1&#45;&#45;3</title>\n<path fill=\"none\" stroke=\"#000000\" d=\"M27,-143.8314C27,-133 27,-119.2876 27,-108.4133\"/>\n</g>\n<!-- 6 -->\n<g id=\"node6\" class=\"node\">\n<title>6</title>\n<ellipse fill=\"none\" stroke=\"#000000\" cx=\"99\" cy=\"-90\" rx=\"27\" ry=\"18\"/>\n<text text-anchor=\"middle\" x=\"99\" y=\"-86.3\" font-family=\"Times,serif\" font-size=\"14.00\" fill=\"#000000\">6</text>\n</g>\n<!-- 1&#45;&#45;6 -->\n<g id=\"edge5\" class=\"edge\">\n<title>1&#45;&#45;6</title>\n<path fill=\"none\" stroke=\"#000000\" d=\"M42.2693,-146.7307C54.488,-134.512 71.5398,-117.4602 83.7527,-105.2473\"/>\n</g>\n<!-- 2&#45;&#45;4 -->\n<g id=\"edge6\" class=\"edge\">\n<title>2&#45;&#45;4</title>\n<path fill=\"none\" stroke=\"#000000\" d=\"M90.7146,-216.5708C96.3747,-205.2506 103.7216,-190.5568 109.3657,-179.2687\"/>\n</g>\n<!-- 4&#45;&#45;6 -->\n<g id=\"edge9\" class=\"edge\">\n<title>4&#45;&#45;6</title>\n<path fill=\"none\" stroke=\"#000000\" d=\"M113.3034,-144.2022C110.3803,-133.1252 106.6338,-118.928 103.7084,-107.8425\"/>\n</g>\n<!-- 7 -->\n<g id=\"node8\" class=\"node\">\n<title>7</title>\n<ellipse fill=\"none\" stroke=\"#000000\" cx=\"99\" cy=\"-18\" rx=\"27\" ry=\"18\"/>\n<text text-anchor=\"middle\" x=\"99\" y=\"-14.3\" font-family=\"Times,serif\" font-size=\"14.00\" fill=\"#000000\">7</text>\n</g>\n<!-- 4&#45;&#45;7 -->\n<g id=\"edge10\" class=\"edge\">\n<title>4&#45;&#45;7</title>\n<path fill=\"none\" stroke=\"#000000\" d=\"M126.0743,-144.8186C133.5652,-126.5108 142.5109,-96.807 135,-72 130.6901,-57.7653 121.2535,-43.8532 113.1229,-33.7156\"/>\n</g>\n<!-- 5 -->\n<g id=\"node7\" class=\"node\">\n<title>5</title>\n<ellipse fill=\"none\" stroke=\"#000000\" cx=\"27\" cy=\"-18\" rx=\"27\" ry=\"18\"/>\n<text text-anchor=\"middle\" x=\"27\" y=\"-14.3\" font-family=\"Times,serif\" font-size=\"14.00\" fill=\"#000000\">5</text>\n</g>\n<!-- 3&#45;&#45;5 -->\n<g id=\"edge7\" class=\"edge\">\n<title>3&#45;&#45;5</title>\n<path fill=\"none\" stroke=\"#000000\" d=\"M27,-71.8314C27,-61 27,-47.2876 27,-36.4133\"/>\n</g>\n<!-- 3&#45;&#45;7 -->\n<g id=\"edge8\" class=\"edge\">\n<title>3&#45;&#45;7</title>\n<path fill=\"none\" stroke=\"#000000\" d=\"M42.2693,-74.7307C54.488,-62.512 71.5398,-45.4602 83.7527,-33.2473\"/>\n</g>\n<!-- 6&#45;&#45;7 -->\n<g id=\"edge11\" class=\"edge\">\n<title>6&#45;&#45;7</title>\n<path fill=\"none\" stroke=\"#000000\" d=\"M99,-71.8314C99,-61 99,-47.2876 99,-36.4133\"/>\n</g>\n</g>\n</svg>\n"
          },
          "metadata": {
            "tags": []
          },
          "execution_count": 47
        }
      ]
    },
    {
      "cell_type": "code",
      "metadata": {
        "id": "w_h6cyapW_3c",
        "colab_type": "code",
        "colab": {}
      },
      "source": [
        ""
      ],
      "execution_count": null,
      "outputs": []
    }
  ]
}