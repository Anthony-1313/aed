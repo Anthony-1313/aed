{
  "nbformat": 4,
  "nbformat_minor": 0,
  "metadata": {
    "colab": {
      "name": "13-avl.ipynb",
      "provenance": [],
      "collapsed_sections": [],
      "authorship_tag": "ABX9TyMd19TZgV8B1NqZNSn2ZJHu",
      "include_colab_link": true
    },
    "kernelspec": {
      "name": "python3",
      "display_name": "Python 3"
    }
  },
  "cells": [
    {
      "cell_type": "markdown",
      "metadata": {
        "id": "view-in-github",
        "colab_type": "text"
      },
      "source": [
        "<a href=\"https://colab.research.google.com/github/pcsilcan/aed/blob/master/week13/13_avl.ipynb\" target=\"_parent\"><img src=\"https://colab.research.google.com/assets/colab-badge.svg\" alt=\"Open In Colab\"/></a>"
      ]
    },
    {
      "cell_type": "markdown",
      "metadata": {
        "id": "dBsWAFR5yJYp",
        "colab_type": "text"
      },
      "source": [
        "# Árbol balanceado AVL"
      ]
    },
    {
      "cell_type": "code",
      "metadata": {
        "id": "RI3bh5q4Eawx",
        "colab_type": "code",
        "colab": {
          "base_uri": "https://localhost:8080/",
          "height": 34
        },
        "outputId": "82e813bd-1435-4860-9fec-cda3a88fc673"
      },
      "source": [
        "%%writefile avl.h\n",
        "#ifndef __AVL_H__\n",
        "#define __AVL_H__\n",
        "\n",
        "#include <functional>\n",
        "\n",
        "using namespace std;\n",
        "\n",
        "template<typename T, typename R=T, T NONE=0>\n",
        "class AVLBST {\n",
        "    struct Node;\n",
        "\n",
        "    Node*           root;\n",
        "    function<R(T)>  key;\n",
        "    int             len;\n",
        "public:\n",
        "    AVLBST(function<R(T)> key=[](T a) { return a; })\n",
        "        : key(key), root(nullptr), len(0) {}\n",
        "    ~AVLBST()           { clear(root); }\n",
        "    int height()        { return height(root); }\n",
        "    int size()          { return len; }\n",
        "    void clear()        { clear(root); len = 0; }\n",
        "\n",
        "    void add(T elem)    { add(root, elem); }\n",
        "\n",
        "    T find(R val)       { return find(root, val); }\n",
        "    T greaterThan(R val) { return greaterThan(root, val); }\n",
        "\n",
        "    void inOrder(function<void(T)> proc) { inOrder(root, proc); }\n",
        "\n",
        "private:\n",
        "    void    clear(Node*& node);\n",
        "    int     height(Node* node);\n",
        "    void    add(Node*& node, T elem);\n",
        "    T       find(Node* node, R val);\n",
        "    T       greaterThan(Node* node, R val);\n",
        "    void    inOrder(Node* node, function<void(T)> proc);\n",
        "\n",
        "    void    updateHeight(Node* node);\n",
        "    void    rotateLeft(Node*& node);\n",
        "    void    rotateRight(Node*& node);\n",
        "    void    balance(Node*& node);\n",
        "};\n",
        "\n",
        "#include \"node.cpp\"\n",
        "#include \"avl.cpp\"\n",
        "#include \"balanceavl.cpp\"\n",
        "\n",
        "#endif"
      ],
      "execution_count": 16,
      "outputs": [
        {
          "output_type": "stream",
          "text": [
            "Overwriting avl.h\n"
          ],
          "name": "stdout"
        }
      ]
    },
    {
      "cell_type": "markdown",
      "metadata": {
        "id": "0P5g6S_eyRsJ",
        "colab_type": "text"
      },
      "source": [
        "## Nodo del árbol\n",
        "Se incluye la altura de un nodo como un atributo."
      ]
    },
    {
      "cell_type": "code",
      "metadata": {
        "id": "z5j2xxhSFsIY",
        "colab_type": "code",
        "colab": {
          "base_uri": "https://localhost:8080/",
          "height": 34
        },
        "outputId": "7f2832cb-0205-483c-c59b-96fa3d18b43d"
      },
      "source": [
        "%%writefile node.cpp\n",
        "#include \"avl.h\"\n",
        "\n",
        "template<typename T, typename R, T NONE>\n",
        "struct AVLBST<T, R, NONE>::Node {\n",
        "    T       element;\n",
        "    Node*   left;\n",
        "    Node*   right;\n",
        "    int     height;\n",
        "\n",
        "    Node(T element)\n",
        "        : element(element), height(0),\n",
        "          left(nullptr), right(nullptr) {}\n",
        "};"
      ],
      "execution_count": 2,
      "outputs": [
        {
          "output_type": "stream",
          "text": [
            "Writing node.cpp\n"
          ],
          "name": "stdout"
        }
      ]
    },
    {
      "cell_type": "markdown",
      "metadata": {
        "id": "FBV35a_0ypoy",
        "colab_type": "text"
      },
      "source": [
        "## Operaciones básicas\n",
        "Se incluye la operación de obtener la altura de un nodo"
      ]
    },
    {
      "cell_type": "code",
      "metadata": {
        "id": "dFRidIA3LEc9",
        "colab_type": "code",
        "colab": {
          "base_uri": "https://localhost:8080/",
          "height": 34
        },
        "outputId": "455f4e84-ebb2-4252-9489-ef7f773700c1"
      },
      "source": [
        "%%writefile avl.cpp\n",
        "#include \"avl.h\"\n",
        "\n",
        "template<typename T, typename R, T NONE>\n",
        "void AVLBST<T, R, NONE>::clear(Node*& node) {\n",
        "    if (node != nullptr) {\n",
        "        clear(node->left);\n",
        "        clear(node->right);\n",
        "        delete node;\n",
        "        node = nullptr;\n",
        "    }\n",
        "}\n",
        "\n",
        "template<typename T, typename R, T NONE>\n",
        "int AVLBST<T, R, NONE>::height(Node* node) {\n",
        "    return node == nullptr? -1 : node->height;\n",
        "}\n",
        "\n",
        "template<typename T, typename R, T NONE>\n",
        "void AVLBST<T, R, NONE>::add(Node*& node, T elem) {\n",
        "    if (node == nullptr) {\n",
        "        node = new Node(elem);\n",
        "        ++len;\n",
        "    } else {\n",
        "        if (key(elem) < key(node->element)) {\n",
        "            add(node->left, elem);\n",
        "        } else {\n",
        "            add(node->right, elem);\n",
        "        }\n",
        "        balance(node);\n",
        "    }\n",
        "}\n",
        "\n",
        "template<typename T, typename R, T NONE>\n",
        "T AVLBST<T, R, NONE>::find(Node* node, R val) {\n",
        "    if (node == nullptr) {\n",
        "        return NONE;\n",
        "    } else if (val == key(node->element)) {\n",
        "        return node->element;\n",
        "    } else if (val < key(node->element)) {\n",
        "        return find(node->left, val);\n",
        "    } else {\n",
        "        return find(node->right, val);\n",
        "    }\n",
        "}\n",
        "\n",
        "template<typename T, typename R, T NONE>\n",
        "T AVLBST<T, R, NONE>::greaterThan(Node* node, R val) {\n",
        "    if (node == nullptr) {\n",
        "        return NONE;\n",
        "    } else if (val < key(node->element)) {\n",
        "        return node->element;\n",
        "    }\n",
        "    return greaterThan(node->right, val);\n",
        "}\n",
        "\n",
        "template<typename T, typename R, T NONE>\n",
        "void AVLBST<T, R, NONE>::inOrder(Node* node,\n",
        "                                 function<void(T)> proc) {\n",
        "    if (node != nullptr) {\n",
        "        inOrder(node->left, proc);\n",
        "        proc(node->element);\n",
        "        inOrder(node->right, proc);\n",
        "    }\n",
        "}"
      ],
      "execution_count": 10,
      "outputs": [
        {
          "output_type": "stream",
          "text": [
            "Overwriting avl.cpp\n"
          ],
          "name": "stdout"
        }
      ]
    },
    {
      "cell_type": "markdown",
      "metadata": {
        "id": "10BSw5eqy0TU",
        "colab_type": "text"
      },
      "source": [
        "## Operaciones para el balanceo"
      ]
    },
    {
      "cell_type": "code",
      "metadata": {
        "id": "mThLwt3rMBhB",
        "colab_type": "code",
        "colab": {
          "base_uri": "https://localhost:8080/",
          "height": 34
        },
        "outputId": "e0b19c0e-b934-4394-a361-5fea4b6741af"
      },
      "source": [
        "%%writefile balanceavl.cpp\n",
        "#include \"avl.h\"\n",
        "\n",
        "#define max(a, b) (a > b? a : b)\n",
        "\n",
        "template<typename T, typename R, T NONE>\n",
        "void AVLBST<T, R, NONE>::updateHeight(Node* node) {\n",
        "    if (node != nullptr) {\n",
        "        int hl = height(node->left);\n",
        "        int hr = height(node->right);\n",
        "\n",
        "        node->height = max(hl, hr) + 1;\n",
        "    }\n",
        "}\n",
        "\n",
        "template<typename T, typename R, T NONE>\n",
        "void AVLBST<T, R, NONE>::rotateLeft(Node*& node) {\n",
        "    Node* aux = node->right;\n",
        "    node->right = aux->left;\n",
        "    updateHeight(node);\n",
        "    aux->left = node;\n",
        "    updateHeight(aux);\n",
        "    node = aux;\n",
        "}\n",
        "\n",
        "template<typename T, typename R, T NONE>\n",
        "void AVLBST<T, R, NONE>::rotateRight(Node*& node) {\n",
        "    Node* aux = node->left;\n",
        "    node->left = aux->right;\n",
        "    updateHeight(node);\n",
        "    aux->right = node;\n",
        "    updateHeight(aux);\n",
        "    node = aux;\n",
        "}\n",
        "\n",
        "template<typename T, typename R, T NONE>\n",
        "void AVLBST<T, R, NONE>::balance(Node*& node) {\n",
        "    int hl = height(node->left);\n",
        "    int hr = height(node->right);\n",
        "\n",
        "    if (hr - hl < -1) {\n",
        "        hl = height(node->left->left);\n",
        "        hr = height(node->left->right);\n",
        "        if (hr > hl) {\n",
        "            rotateLeft(node->left);\n",
        "        }\n",
        "        rotateRight(node);\n",
        "    } else if (hr - hl > 1) {\n",
        "        hl = height(node->right->left);\n",
        "        hr = height(node->right->right);\n",
        "        if (hl > hr) {\n",
        "            rotateRight(node->right);\n",
        "        }\n",
        "        rotateLeft(node);\n",
        "    } else {\n",
        "        updateHeight(node);\n",
        "    }\n",
        "}"
      ],
      "execution_count": 4,
      "outputs": [
        {
          "output_type": "stream",
          "text": [
            "Writing balanceavl.cpp\n"
          ],
          "name": "stdout"
        }
      ]
    },
    {
      "cell_type": "markdown",
      "metadata": {
        "id": "ARFiLebYzubZ",
        "colab_type": "text"
      },
      "source": [
        "## Un pequeño ejemplo\n",
        "Un árbol avl de elementos enteros. Nótese que para un millón de elementos su altura es 19, pero para elementos aleatorios la altura podría variar entre 19 y 22 o 23."
      ]
    },
    {
      "cell_type": "code",
      "metadata": {
        "id": "hcTiR9NWoPJN",
        "colab_type": "code",
        "colab": {
          "base_uri": "https://localhost:8080/",
          "height": 34
        },
        "outputId": "19f521f7-453e-4cdc-b6ae-2450fef60e7c"
      },
      "source": [
        "%%writefile avlTest.cpp\n",
        "#include <iostream>\n",
        "#include \"avl.h\"\n",
        "\n",
        "using namespace std;\n",
        "\n",
        "int main() {\n",
        "    AVLBST<int>* avl = new AVLBST<int>();\n",
        "\n",
        "    for (int i = 0; i < 1000000; ++i) {\n",
        "        avl->add(i + 1);\n",
        "    }\n",
        "\n",
        "    cout << avl->height() << endl;\n",
        "\n",
        "    delete avl;\n",
        "    return 0;\n",
        "}"
      ],
      "execution_count": 5,
      "outputs": [
        {
          "output_type": "stream",
          "text": [
            "Writing avlTest.cpp\n"
          ],
          "name": "stdout"
        }
      ]
    },
    {
      "cell_type": "code",
      "metadata": {
        "id": "BqGX0h1TowZR",
        "colab_type": "code",
        "colab": {
          "base_uri": "https://localhost:8080/",
          "height": 34
        },
        "outputId": "a20be44b-4d40-498d-ad8a-67150425025b"
      },
      "source": [
        "%%script bash\n",
        "g++ -std=c++17 avlTest.cpp && ./a.out"
      ],
      "execution_count": 17,
      "outputs": [
        {
          "output_type": "stream",
          "text": [
            "19\n"
          ],
          "name": "stdout"
        }
      ]
    },
    {
      "cell_type": "markdown",
      "metadata": {
        "id": "mN1DhSesz-en",
        "colab_type": "text"
      },
      "source": [
        "## Un ejemplo más complejo\n",
        "Creamos una clase Alumno para nuestro ejemplo."
      ]
    },
    {
      "cell_type": "code",
      "metadata": {
        "id": "RTHs2v8qqHxn",
        "colab_type": "code",
        "colab": {
          "base_uri": "https://localhost:8080/",
          "height": 34
        },
        "outputId": "e8d98c60-97ae-4e39-b262-08a79245c6d0"
      },
      "source": [
        "%%writefile alumno.h\n",
        "#ifndef __ALUMNO_H__\n",
        "#define __ALUMNO_H__\n",
        "\n",
        "#include <string>\n",
        "\n",
        "class Alumno {\n",
        "    long long   dni;\n",
        "    std::string nombre;\n",
        "    std::string apellido;\n",
        "\n",
        "public:\n",
        "    Alumno(long long dni, std::string nombre, std::string apellido)\n",
        "        : dni(dni), nombre(nombre), apellido(apellido) {}\n",
        "    long long   getDni()        { return dni; }\n",
        "    std::string getNombre()     { return nombre; }\n",
        "    std::string getApellido()   { return apellido; }\n",
        "\n",
        "    void setDni(long long dni)              { this->dni = dni; }\n",
        "    void setNombre(std::string nombre)      { this->nombre = nombre; }\n",
        "    void setApellido(std::string apellido)  { this->apellido = apellido; }\n",
        "};\n",
        "\n",
        "#endif"
      ],
      "execution_count": 7,
      "outputs": [
        {
          "output_type": "stream",
          "text": [
            "Writing alumno.h\n"
          ],
          "name": "stdout"
        }
      ]
    },
    {
      "cell_type": "markdown",
      "metadata": {
        "id": "-FgewgCB0Exi",
        "colab_type": "text"
      },
      "source": [
        "Crearemos un árbol por cada atributo, para demostrar el uso de los árboles."
      ]
    },
    {
      "cell_type": "code",
      "metadata": {
        "id": "IU6xV72ms6iR",
        "colab_type": "code",
        "colab": {
          "base_uri": "https://localhost:8080/",
          "height": 34
        },
        "outputId": "e7cc95f3-539f-4710-f1bc-63bca973fd42"
      },
      "source": [
        "%%writefile avlAlumnoTest.cpp\n",
        "#include <iostream>\n",
        "#include <iomanip>\n",
        "#include <vector>\n",
        "#include \"alumno.h\"\n",
        "#include \"avl.h\"\n",
        "\n",
        "using namespace std;\n",
        "\n",
        "int main() {\n",
        "    auto k1 = [](Alumno* a) { return a->getDni(); };\n",
        "    auto k2 = [](Alumno* a) { return a->getNombre(); };\n",
        "    auto k3 = [](Alumno* a) { return a->getApellido(); };\n",
        "\n",
        "    AVLBST<Alumno*, long long, nullptr>* idxDni = \n",
        "        new AVLBST<Alumno*, long long, nullptr>(k1);\n",
        "    AVLBST<Alumno*, string, nullptr>*    idxNom =\n",
        "        new AVLBST<Alumno*, string, nullptr>(k2);\n",
        "    AVLBST<Alumno*, string, nullptr>*    idxApe =\n",
        "        new AVLBST<Alumno*, string, nullptr>(k3);\n",
        "\n",
        "    vector<Alumno*> alumnos;\n",
        "    alumnos.push_back(new Alumno(21, \"Juan\", \"Perez\"));\n",
        "    alumnos.push_back(new Alumno(54, \"Rosa\", \"Jimenez\"));\n",
        "    alumnos.push_back(new Alumno(72, \"Maria\", \"Gonzalez\"));\n",
        "    alumnos.push_back(new Alumno(11, \"Ramona\", \"Cueva\"));\n",
        "    alumnos.push_back(new Alumno(34, \"José\", \"Ugarte\"));\n",
        "    alumnos.push_back(new Alumno(98, \"Ricardo\", \"Shiguihara\"));\n",
        "    alumnos.push_back(new Alumno(37, \"Manuel\", \"Villalta\"));\n",
        "    alumnos.push_back(new Alumno(17, \"Rodolfa\", \"Rodriguez\"));\n",
        "    alumnos.push_back(new Alumno(41, \"Patricia\", \"Smith\"));\n",
        "    alumnos.push_back(new Alumno(19, \"Aquiles\", \"Zeballos\"));\n",
        "    alumnos.push_back(new Alumno(25, \"Carlos\", \"Wayne\"));\n",
        "\n",
        "    for (auto al : alumnos) {\n",
        "        idxDni->add(al);\n",
        "        idxNom->add(al);\n",
        "        idxApe->add(al);\n",
        "    }\n",
        "\n",
        "    auto print = [](Alumno* a) {\n",
        "        if (a == nullptr) return;\n",
        "        cout << setw(6) << a->getDni()\n",
        "            << setw(12) << a->getNombre()\n",
        "            << setw(12) << a->getApellido() << endl;\n",
        "    };\n",
        "\n",
        "    idxDni->inOrder(print); cout << \"-----\\n\";\n",
        "    idxNom->inOrder(print); cout << \"-----\\n\";\n",
        "    idxApe->inOrder(print); cout << \"-----\\n\";\n",
        "\n",
        "    print(idxDni->greaterThan(11));\n",
        "    print(idxNom->find(\"Ricardo\"));\n",
        "    print(idxApe->find(\"Smith\"));\n",
        "\n",
        "    delete idxDni;\n",
        "    delete idxApe;\n",
        "    delete idxNom;\n",
        "    return 0;\n",
        "}"
      ],
      "execution_count": 22,
      "outputs": [
        {
          "output_type": "stream",
          "text": [
            "Overwriting avlAlumnoTest.cpp\n"
          ],
          "name": "stdout"
        }
      ]
    },
    {
      "cell_type": "code",
      "metadata": {
        "id": "eAoj1skitZBJ",
        "colab_type": "code",
        "colab": {
          "base_uri": "https://localhost:8080/",
          "height": 672
        },
        "outputId": "7491743d-b9e0-4f43-9701-1bbcf6ce7296"
      },
      "source": [
        "%%script bash\n",
        "g++ -std=c++17 avlAlumnoTest.cpp && ./a.out"
      ],
      "execution_count": 23,
      "outputs": [
        {
          "output_type": "stream",
          "text": [
            "    11      Ramona       Cueva\n",
            "    17     Rodolfa   Rodriguez\n",
            "    19     Aquiles    Zeballos\n",
            "    21        Juan       Perez\n",
            "    25      Carlos       Wayne\n",
            "    34       José      Ugarte\n",
            "    37      Manuel    Villalta\n",
            "    41    Patricia       Smith\n",
            "    54        Rosa     Jimenez\n",
            "    72       Maria    Gonzalez\n",
            "    98     Ricardo  Shiguihara\n",
            "-----\n",
            "    19     Aquiles    Zeballos\n",
            "    25      Carlos       Wayne\n",
            "    34       José      Ugarte\n",
            "    21        Juan       Perez\n",
            "    37      Manuel    Villalta\n",
            "    72       Maria    Gonzalez\n",
            "    41    Patricia       Smith\n",
            "    11      Ramona       Cueva\n",
            "    98     Ricardo  Shiguihara\n",
            "    17     Rodolfa   Rodriguez\n",
            "    54        Rosa     Jimenez\n",
            "-----\n",
            "    11      Ramona       Cueva\n",
            "    72       Maria    Gonzalez\n",
            "    54        Rosa     Jimenez\n",
            "    21        Juan       Perez\n",
            "    17     Rodolfa   Rodriguez\n",
            "    98     Ricardo  Shiguihara\n",
            "    41    Patricia       Smith\n",
            "    34       José      Ugarte\n",
            "    37      Manuel    Villalta\n",
            "    25      Carlos       Wayne\n",
            "    19     Aquiles    Zeballos\n",
            "-----\n",
            "    37      Manuel    Villalta\n",
            "    98     Ricardo  Shiguihara\n",
            "    41    Patricia       Smith\n"
          ],
          "name": "stdout"
        }
      ]
    },
    {
      "cell_type": "code",
      "metadata": {
        "id": "wM41pi69vkLg",
        "colab_type": "code",
        "colab": {}
      },
      "source": [
        ""
      ],
      "execution_count": null,
      "outputs": []
    }
  ]
}