{
  "nbformat": 4,
  "nbformat_minor": 0,
  "metadata": {
    "colab": {
      "name": "13-avl.ipynb",
      "provenance": [],
      "collapsed_sections": [],
      "authorship_tag": "ABX9TyPQd5hsEMgcJKIi4A5r9iTY",
      "include_colab_link": true
    },
    "kernelspec": {
      "name": "python3",
      "display_name": "Python 3"
    }
  },
  "cells": [
    {
      "cell_type": "markdown",
      "metadata": {
        "id": "view-in-github",
        "colab_type": "text"
      },
      "source": [
        "<a href=\"https://colab.research.google.com/github/pcsilcan/aed/blob/master/week13/13_avl.ipynb\" target=\"_parent\"><img src=\"https://colab.research.google.com/assets/colab-badge.svg\" alt=\"Open In Colab\"/></a>"
      ]
    },
    {
      "cell_type": "code",
      "metadata": {
        "id": "RI3bh5q4Eawx",
        "colab_type": "code",
        "colab": {
          "base_uri": "https://localhost:8080/",
          "height": 34
        },
        "outputId": "ad9a2a59-50fc-42be-eba2-582f7aabdabb"
      },
      "source": [
        "%%writefile avl.h\n",
        "#ifndef __AVL_H__\n",
        "#define __AVL_H__\n",
        "\n",
        "#include <functional>\n",
        "\n",
        "using namespace std;\n",
        "\n",
        "template<typename T, typename R=T, T NONE=0>\n",
        "class AVLBST {\n",
        "    struct Node;\n",
        "\n",
        "    Node*           root;\n",
        "    function<R(T)>  key;\n",
        "    int             len;\n",
        "public:\n",
        "    AVLBST(function<R(T)> key=[](T a) { return a; })\n",
        "        : key(key), root(nullptr), len(0) {}\n",
        "    ~AVLBST()           { clear(root); }\n",
        "    int height()        { return height(root); }\n",
        "    int size()          { return len; }\n",
        "    void clear()        { clear(root); }\n",
        "\n",
        "    void add(T elem)    { add(root, elem); }\n",
        "\n",
        "    void inOrder(function<void(T)> proc) { inOrder(root, proc); }\n",
        "\n",
        "private:\n",
        "    void    clear(Node*& node);\n",
        "    int     height(Node* node);\n",
        "    void    add(Node*& node, T elem);\n",
        "    void    inOrder(Node* node, function<void(T)> proc);\n",
        "\n",
        "    void    updateHeight(Node* node);\n",
        "    void    rotateLeft(Node*& node);\n",
        "    void    rotateRight(Node*& node);\n",
        "    void    balance(Node*& node);\n",
        "};\n",
        "\n",
        "#include \"node.cpp\"\n",
        "#include \"avl.cpp\"\n",
        "#include \"balanceavl.cpp\"\n",
        "\n",
        "#endif"
      ],
      "execution_count": 12,
      "outputs": [
        {
          "output_type": "stream",
          "text": [
            "Overwriting avl.h\n"
          ],
          "name": "stdout"
        }
      ]
    },
    {
      "cell_type": "code",
      "metadata": {
        "id": "z5j2xxhSFsIY",
        "colab_type": "code",
        "colab": {
          "base_uri": "https://localhost:8080/",
          "height": 34
        },
        "outputId": "5b17b373-1c55-42a2-ca8e-ce0855f5f143"
      },
      "source": [
        "%%writefile node.cpp\n",
        "#include \"avl.h\"\n",
        "\n",
        "template<typename T, typename R, T NONE>\n",
        "struct AVLBST<T, R, NONE>::Node {\n",
        "    T       element;\n",
        "    Node*   left;\n",
        "    Node*   right;\n",
        "    int     height;\n",
        "\n",
        "    Node(T element)\n",
        "        : element(element), height(0),\n",
        "          left(nullptr), right(nullptr) {}\n",
        "};"
      ],
      "execution_count": 2,
      "outputs": [
        {
          "output_type": "stream",
          "text": [
            "Writing node.cpp\n"
          ],
          "name": "stdout"
        }
      ]
    },
    {
      "cell_type": "code",
      "metadata": {
        "id": "dFRidIA3LEc9",
        "colab_type": "code",
        "colab": {
          "base_uri": "https://localhost:8080/",
          "height": 34
        },
        "outputId": "67fbc432-688d-4ef5-8c62-29399c425708"
      },
      "source": [
        "%%writefile avl.cpp\n",
        "#include \"avl.h\"\n",
        "\n",
        "template<typename T, typename R, T NONE>\n",
        "void AVLBST<T, R, NONE>::clear(Node*& node) {\n",
        "    if (node != nullptr) {\n",
        "        clear(node->left);\n",
        "        clear(node->right);\n",
        "        delete node;\n",
        "        node = nullptr;\n",
        "    }\n",
        "}\n",
        "\n",
        "template<typename T, typename R, T NONE>\n",
        "int AVLBST<T, R, NONE>::height(Node* node) {\n",
        "    return node == nullptr? -1 : node->height;\n",
        "}\n",
        "\n",
        "template<typename T, typename R, T NONE>\n",
        "void AVLBST<T, R, NONE>::add(Node*& node, T elem) {\n",
        "    if (node == nullptr) {\n",
        "        node = new Node(elem);\n",
        "    } else {\n",
        "        if (key(elem) < key(node->element)) {\n",
        "            add(node->left, elem);\n",
        "        } else {\n",
        "            add(node->right, elem);\n",
        "        }\n",
        "        balance(node);\n",
        "    }\n",
        "}\n",
        "\n",
        "template<typename T, typename R, T NONE>\n",
        "void AVLBST<T, R, NONE>::inOrder(Node* node,\n",
        "                                 function<void(T)> proc) {\n",
        "    if (node != nullptr) {\n",
        "        inOrder(node->left, proc);\n",
        "        proc(node->element);\n",
        "        inOrder(node->right, proc);\n",
        "    }\n",
        "}"
      ],
      "execution_count": 3,
      "outputs": [
        {
          "output_type": "stream",
          "text": [
            "Writing avl.cpp\n"
          ],
          "name": "stdout"
        }
      ]
    },
    {
      "cell_type": "code",
      "metadata": {
        "id": "mThLwt3rMBhB",
        "colab_type": "code",
        "colab": {
          "base_uri": "https://localhost:8080/",
          "height": 34
        },
        "outputId": "34591c3e-1718-4154-ab92-c5d7b41b22b2"
      },
      "source": [
        "%%writefile balanceavl.cpp\n",
        "#include \"avl.h\"\n",
        "\n",
        "#define max(a, b) (a > b? a : b)\n",
        "\n",
        "template<typename T, typename R, T NONE>\n",
        "void AVLBST<T, R, NONE>::updateHeight(Node* node) {\n",
        "    if (node != nullptr) {\n",
        "        int hl = height(node->left);\n",
        "        int hr = height(node->right);\n",
        "\n",
        "        node->height = max(hl, hr) + 1;\n",
        "    }\n",
        "}\n",
        "\n",
        "template<typename T, typename R, T NONE>\n",
        "void AVLBST<T, R, NONE>::rotateLeft(Node*& node) {\n",
        "    Node* aux = node->right;\n",
        "    node->right = aux->left;\n",
        "    updateHeight(node);\n",
        "    aux->left = node;\n",
        "    updateHeight(aux);\n",
        "    node = aux;\n",
        "}\n",
        "\n",
        "template<typename T, typename R, T NONE>\n",
        "void AVLBST<T, R, NONE>::rotateRight(Node*& node) {\n",
        "    Node* aux = node->left;\n",
        "    node->left = aux->right;\n",
        "    updateHeight(node);\n",
        "    aux->right = node;\n",
        "    updateHeight(aux);\n",
        "    node = aux;\n",
        "}\n",
        "\n",
        "template<typename T, typename R, T NONE>\n",
        "void AVLBST<T, R, NONE>::balance(Node*& node) {\n",
        "    int hl = height(node->left);\n",
        "    int hr = height(node->right);\n",
        "\n",
        "    if (hl - hr > 1) {\n",
        "        hl = height(node->left->left);\n",
        "        hr = height(node->left->right);\n",
        "        if (hl < hr) {\n",
        "            rotateLeft(node->left);\n",
        "        }\n",
        "        rotateRight(node);\n",
        "    } else if (hl - hr < -1) {\n",
        "        hl = height(node->right->left);\n",
        "        hr = height(node->right->right);\n",
        "        if (hl > hr) {\n",
        "            rotateRight(node->right);\n",
        "        }\n",
        "        rotateLeft(node);\n",
        "    } else {\n",
        "        updateHeight(node);\n",
        "    }\n",
        "}"
      ],
      "execution_count": 4,
      "outputs": [
        {
          "output_type": "stream",
          "text": [
            "Writing balanceavl.cpp\n"
          ],
          "name": "stdout"
        }
      ]
    },
    {
      "cell_type": "code",
      "metadata": {
        "id": "hcTiR9NWoPJN",
        "colab_type": "code",
        "colab": {
          "base_uri": "https://localhost:8080/",
          "height": 34
        },
        "outputId": "7f396201-b636-4f4f-be66-18da35b56d71"
      },
      "source": [
        "%%writefile avlTest.cpp\n",
        "#include <iostream>\n",
        "#include \"avl.h\"\n",
        "\n",
        "using namespace std;\n",
        "\n",
        "int main() {\n",
        "    AVLBST<int>* avl = new AVLBST<int>();\n",
        "\n",
        "    for (int i = 0; i < 1000000; ++i) {\n",
        "        avl->add(i + 1);\n",
        "    }\n",
        "\n",
        "    cout << avl->height() << endl;\n",
        "\n",
        "    delete avl;\n",
        "    return 0;\n",
        "}"
      ],
      "execution_count": 14,
      "outputs": [
        {
          "output_type": "stream",
          "text": [
            "Overwriting avlTest.cpp\n"
          ],
          "name": "stdout"
        }
      ]
    },
    {
      "cell_type": "code",
      "metadata": {
        "id": "BqGX0h1TowZR",
        "colab_type": "code",
        "colab": {
          "base_uri": "https://localhost:8080/",
          "height": 34
        },
        "outputId": "8e3d4708-e11d-4f08-f386-5729b5d5e82d"
      },
      "source": [
        "%%script bash\n",
        "g++ -std=c++17 avlTest.cpp && ./a.out"
      ],
      "execution_count": 15,
      "outputs": [
        {
          "output_type": "stream",
          "text": [
            "19\n"
          ],
          "name": "stdout"
        }
      ]
    },
    {
      "cell_type": "code",
      "metadata": {
        "id": "RTHs2v8qqHxn",
        "colab_type": "code",
        "colab": {
          "base_uri": "https://localhost:8080/",
          "height": 34
        },
        "outputId": "f698d0a6-dab3-4032-f45b-3b35a537a8a8"
      },
      "source": [
        "%%writefile alumno.h\n",
        "#ifndef __ALUMNO_H__\n",
        "#define __ALUMNO_H__\n",
        "\n",
        "#include <string>\n",
        "\n",
        "class Alumno {\n",
        "    long long   dni;\n",
        "    std::string nombre;\n",
        "    std::string apellido;\n",
        "\n",
        "public:\n",
        "    Alumno(long long dni, std::string nombre, std::string apellido)\n",
        "        : dni(dni), nombre(nombre), apellido(apellido) {}\n",
        "    long long   getDni()        { return dni; }\n",
        "    std::string getNombre()     { return nombre; }\n",
        "    std::string getApellido()   { return apellido; }\n",
        "\n",
        "    void setDni(long long dni)              { this->dni = dni; }\n",
        "    void setNombre(std::string nombre)      { this->nombre = nombre; }\n",
        "    void setApellido(std::string apellido)  { this->apellido = apellido; }\n",
        "};\n",
        "\n",
        "#endif"
      ],
      "execution_count": 17,
      "outputs": [
        {
          "output_type": "stream",
          "text": [
            "Writing alumno.h\n"
          ],
          "name": "stdout"
        }
      ]
    },
    {
      "cell_type": "code",
      "metadata": {
        "id": "IU6xV72ms6iR",
        "colab_type": "code",
        "colab": {
          "base_uri": "https://localhost:8080/",
          "height": 34
        },
        "outputId": "45793974-52fa-44ac-8048-716190e98e08"
      },
      "source": [
        "%%writefile avlAlumnoTest.cpp\n",
        "#include <iostream>\n",
        "#include <iomanip>\n",
        "#include <vector>\n",
        "#include \"alumno.h\"\n",
        "#include \"avl.h\"\n",
        "\n",
        "using namespace std;\n",
        "\n",
        "int main() {\n",
        "    auto k1 = [](Alumno* a) { return a->getDni(); };\n",
        "    auto k2 = [](Alumno* a) { return a->getNombre(); };\n",
        "    auto k3 = [](Alumno* a) { return a->getApellido(); };\n",
        "\n",
        "    AVLBST<Alumno*, long long, nullptr>* idxDni = \n",
        "        new AVLBST<Alumno*, long long, nullptr>(k1);\n",
        "    AVLBST<Alumno*, string, nullptr>*    idxNom =\n",
        "        new AVLBST<Alumno*, string, nullptr>(k2);\n",
        "    AVLBST<Alumno*, string, nullptr>*    idxApe =\n",
        "        new AVLBST<Alumno*, string, nullptr>(k3);\n",
        "\n",
        "    vector<Alumno*> alumnos;\n",
        "    alumnos.push_back(new Alumno(21, \"Juan\", \"Perez\"));\n",
        "    alumnos.push_back(new Alumno(54, \"Rosa\", \"Jimenez\"));\n",
        "    alumnos.push_back(new Alumno(72, \"Maria\", \"Gonzalez\"));\n",
        "    alumnos.push_back(new Alumno(11, \"Ramona\", \"Cueva\"));\n",
        "    alumnos.push_back(new Alumno(34, \"José\", \"Ugarte\"));\n",
        "    alumnos.push_back(new Alumno(98, \"Ricardo\", \"Shiguihara\"));\n",
        "    alumnos.push_back(new Alumno(37, \"Manuel\", \"Villalta\"));\n",
        "    alumnos.push_back(new Alumno(17, \"Rodolfa\", \"Rodriguez\"));\n",
        "    alumnos.push_back(new Alumno(41, \"Patricia\", \"Smith\"));\n",
        "    alumnos.push_back(new Alumno(19, \"Aquiles\", \"Zeballos\"));\n",
        "    alumnos.push_back(new Alumno(25, \"Carlos\", \"Wayne\"));\n",
        "\n",
        "    for (auto al : alumnos) {\n",
        "        idxDni->add(al);\n",
        "        idxNom->add(al);\n",
        "        idxApe->add(al);\n",
        "    }\n",
        "\n",
        "    auto print = [](Alumno* a) {\n",
        "        cout << setw(6) << a->getDni()\n",
        "            << setw(12) << a->getNombre()\n",
        "            << setw(12) << a->getApellido() << endl;\n",
        "    };\n",
        "\n",
        "    idxDni->inOrder(print); cout << \"-----\\n\";\n",
        "    idxNom->inOrder(print); cout << \"-----\\n\";\n",
        "    idxApe->inOrder(print); cout << \"-----\\n\";\n",
        "\n",
        "    delete idxDni;\n",
        "    delete idxApe;\n",
        "    delete idxNom;\n",
        "    return 0;\n",
        "}"
      ],
      "execution_count": 25,
      "outputs": [
        {
          "output_type": "stream",
          "text": [
            "Overwriting avlAlumnoTest.cpp\n"
          ],
          "name": "stdout"
        }
      ]
    },
    {
      "cell_type": "code",
      "metadata": {
        "id": "eAoj1skitZBJ",
        "colab_type": "code",
        "colab": {
          "base_uri": "https://localhost:8080/",
          "height": 622
        },
        "outputId": "06cb71aa-a748-4d5f-d62f-a1eb7c764102"
      },
      "source": [
        "%%script bash\n",
        "g++ -std=c++17 avlAlumnoTest.cpp && ./a.out"
      ],
      "execution_count": 26,
      "outputs": [
        {
          "output_type": "stream",
          "text": [
            "    11      Ramona       Cueva\n",
            "    17     Rodolfa   Rodriguez\n",
            "    19     Aquiles    Zeballos\n",
            "    21        Juan       Perez\n",
            "    25      Carlos       Wayne\n",
            "    34       José      Ugarte\n",
            "    37      Manuel    Villalta\n",
            "    41    Patricia       Smith\n",
            "    54        Rosa     Jimenez\n",
            "    72       Maria    Gonzalez\n",
            "    98     Ricardo  Shiguihara\n",
            "-----\n",
            "    19     Aquiles    Zeballos\n",
            "    25      Carlos       Wayne\n",
            "    34       José      Ugarte\n",
            "    21        Juan       Perez\n",
            "    37      Manuel    Villalta\n",
            "    72       Maria    Gonzalez\n",
            "    41    Patricia       Smith\n",
            "    11      Ramona       Cueva\n",
            "    98     Ricardo  Shiguihara\n",
            "    17     Rodolfa   Rodriguez\n",
            "    54        Rosa     Jimenez\n",
            "-----\n",
            "    11      Ramona       Cueva\n",
            "    72       Maria    Gonzalez\n",
            "    54        Rosa     Jimenez\n",
            "    21        Juan       Perez\n",
            "    17     Rodolfa   Rodriguez\n",
            "    98     Ricardo  Shiguihara\n",
            "    41    Patricia       Smith\n",
            "    34       José      Ugarte\n",
            "    37      Manuel    Villalta\n",
            "    25      Carlos       Wayne\n",
            "    19     Aquiles    Zeballos\n",
            "-----\n"
          ],
          "name": "stdout"
        }
      ]
    },
    {
      "cell_type": "code",
      "metadata": {
        "id": "wM41pi69vkLg",
        "colab_type": "code",
        "colab": {}
      },
      "source": [
        ""
      ],
      "execution_count": null,
      "outputs": []
    }
  ]
}