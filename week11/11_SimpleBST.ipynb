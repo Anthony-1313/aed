{
  "nbformat": 4,
  "nbformat_minor": 0,
  "metadata": {
    "colab": {
      "name": "11-SimpleBST.ipynb",
      "provenance": [],
      "collapsed_sections": [],
      "authorship_tag": "ABX9TyPZi0d+UgEzroY7brOW09f3",
      "include_colab_link": true
    },
    "kernelspec": {
      "name": "python3",
      "display_name": "Python 3"
    }
  },
  "cells": [
    {
      "cell_type": "markdown",
      "metadata": {
        "id": "view-in-github",
        "colab_type": "text"
      },
      "source": [
        "<a href=\"https://colab.research.google.com/github/pcsilcan/aed/blob/master/week11/11_SimpleBST.ipynb\" target=\"_parent\"><img src=\"https://colab.research.google.com/assets/colab-badge.svg\" alt=\"Open In Colab\"/></a>"
      ]
    },
    {
      "cell_type": "code",
      "metadata": {
        "id": "VToC7MUJZRAZ",
        "colab_type": "code",
        "colab": {
          "base_uri": "https://localhost:8080/",
          "height": 34
        },
        "outputId": "d4b51679-ee68-4812-99aa-ace1f8e31302"
      },
      "source": [
        "%%writefile simplebst.h\n",
        "\n",
        "#ifndef __SIMPLEBST_H__\n",
        "#define __SIMPLEBST_H__\n",
        "\n",
        "#include <functional>\n",
        "#include <string>\n",
        "#include <fstream>\n",
        "\n",
        "class SimpleBST {\n",
        "    struct Node {\n",
        "        float element;\n",
        "        Node* left;\n",
        "        Node* right;\n",
        "\n",
        "        Node(float elem)\n",
        "            : element(elem), left(nullptr), right(nullptr) {}\n",
        "    };\n",
        "\n",
        "    Node* root;\n",
        "public:\n",
        "    SimpleBST() : root(nullptr) {}\n",
        "    ~SimpleBST() {\n",
        "        clear(root);\n",
        "    }\n",
        "\n",
        "    void clear() {\n",
        "        clear(root);\n",
        "    }\n",
        "\n",
        "    void add(float elem) {\n",
        "        add(root, elem);\n",
        "    }\n",
        "\n",
        "    bool find(float elem) {\n",
        "        return find(root, elem);\n",
        "    }\n",
        "\n",
        "    void remove(float elem);\n",
        "\n",
        "    void preorder(std::function<void(float)> proc);\n",
        "    void postorder(std::function<void(float)> proc);\n",
        "    void inorder(std::function<void(float)> proc);\n",
        "\n",
        "    void generateDot(std::string filename);\n",
        "\n",
        "private:\n",
        "    void clear(Node* node) {\n",
        "        if (node != nullptr) {\n",
        "            clear(node->left);\n",
        "            clear(node->right);\n",
        "            delete node;\n",
        "            node = nullptr;\n",
        "        }\n",
        "    }\n",
        "\n",
        "    void add(Node*& node, float elem) {\n",
        "        if (node == nullptr) {\n",
        "            node = new Node(elem);\n",
        "        } else if (elem < node->element) {\n",
        "            add(node->left, elem);\n",
        "        } else if (elem > node->element) {\n",
        "            add(node->right, elem);\n",
        "        }\n",
        "    }\n",
        "\n",
        "    bool find(Node* node, float elem) {\n",
        "        if (node != nullptr) {\n",
        "            if (elem == node->element) {\n",
        "                return true;\n",
        "            } else if (elem < node->element) {\n",
        "                return find(node->left, elem);\n",
        "            } else {\n",
        "                return find(node->right, elem);\n",
        "            }\n",
        "        }\n",
        "        return false;\n",
        "    }\n",
        "\n",
        "    void preorder(Node* node, std::function<void(float)> proc);\n",
        "    void postorder(Node* node, std::function<void(float)> proc);\n",
        "    void inorder(Node* node, std::function<void(float)> proc);\n",
        "\n",
        "    void generate(Node* node, std::ofstream& file, int& cont);\n",
        "};\n",
        "\n",
        "#endif"
      ],
      "execution_count": 18,
      "outputs": [
        {
          "output_type": "stream",
          "text": [
            "Overwriting simplebst.h\n"
          ],
          "name": "stdout"
        }
      ]
    },
    {
      "cell_type": "markdown",
      "metadata": {
        "id": "mU_cDPWm4Jrh",
        "colab_type": "text"
      },
      "source": [
        "## Recorridos del árbol"
      ]
    },
    {
      "cell_type": "code",
      "metadata": {
        "id": "z9pHUVVN3JEj",
        "colab_type": "code",
        "colab": {
          "base_uri": "https://localhost:8080/",
          "height": 34
        },
        "outputId": "94130c72-7942-4d94-f12e-f9d00b6ea125"
      },
      "source": [
        "%%writefile simplebstroutes.cpp\n",
        "\n",
        "#include \"simplebst.h\"\n",
        "\n",
        "void SimpleBST::preorder(std::function<void(float)> proc) {\n",
        "    preorder(root, proc);\n",
        "}\n",
        "void SimpleBST::preorder(Node* node, std::function<void(float)> proc) {\n",
        "    if (node != nullptr) {\n",
        "        proc(node->element);\n",
        "        preorder(node->left, proc);\n",
        "        preorder(node->right, proc);\n",
        "    }\n",
        "}\n",
        "\n",
        "\n",
        "void SimpleBST::postorder(std::function<void(float)> proc) {\n",
        "    postorder(root, proc);\n",
        "}\n",
        "void SimpleBST::postorder(Node* node, std::function<void(float)> proc) {\n",
        "    if (node != nullptr) {\n",
        "        postorder(node->left, proc);\n",
        "        postorder(node->right, proc);\n",
        "        proc(node->element);\n",
        "    }\n",
        "}\n",
        "\n",
        "\n",
        "void SimpleBST::inorder(std::function<void(float)> proc) {\n",
        "    inorder(root, proc);\n",
        "}\n",
        "void SimpleBST::inorder(Node* node, std::function<void(float)> proc) {\n",
        "    if (node != nullptr) {\n",
        "        inorder(node->left, proc);\n",
        "        proc(node->element);\n",
        "        inorder(node->right, proc);\n",
        "    }\n",
        "}"
      ],
      "execution_count": 19,
      "outputs": [
        {
          "output_type": "stream",
          "text": [
            "Overwriting simplebstroutes.cpp\n"
          ],
          "name": "stdout"
        }
      ]
    },
    {
      "cell_type": "markdown",
      "metadata": {
        "id": "Ef_NjsgmlMVL",
        "colab_type": "text"
      },
      "source": [
        "## Generate DOT\n",
        "Ésto es solamente código para dibujar el árbol, no es parte del alcance del curso, no será evaluado y no necesitan aprenderlo (a menos que quieran)!\n",
        "\n",
        "[Más información acerca de Graphviz y el lenguaje DOT](https://www.graphviz.org/documentation/)"
      ]
    },
    {
      "cell_type": "code",
      "metadata": {
        "id": "2riIjKRpj-S9",
        "colab_type": "code",
        "colab": {
          "base_uri": "https://localhost:8080/",
          "height": 34
        },
        "outputId": "737dc629-ccb5-4b6e-e263-34f1660b15e3"
      },
      "source": [
        "%%writefile simplebstdot.cpp\n",
        "\n",
        "#include \"simplebst.h\"\n",
        "\n",
        "void SimpleBST::generateDot(std::string filename) {\n",
        "    if (root != nullptr) {\n",
        "        std::ofstream file(filename);\n",
        "        int cont = 0;\n",
        "        file << \"digraph G {\\n\";\n",
        "        generate(root, file, cont);\n",
        "        file << \"}\";\n",
        "    }\n",
        "}\n",
        "\n",
        "void SimpleBST::generate(Node* node, std::ofstream& file, int& cont) {\n",
        "    if (node->left != nullptr) {\n",
        "        file << node->element << \"->\" << node->left->element << std::endl;\n",
        "        generate(node->left, file, cont);\n",
        "    } else {\n",
        "        file << \"null\" << cont << \" [shape=point]\\n\";\n",
        "        file << node->element << \"->null\" << cont << std::endl;\n",
        "        ++cont;\n",
        "    }\n",
        "    if (node->right != nullptr) {\n",
        "        file << node->element << \"->\" << node->right->element << std::endl;\n",
        "        generate(node->right, file, cont);\n",
        "    } else {\n",
        "        file << \"null\" << cont << \" [shape=point]\\n\";\n",
        "        file << node->element << \"->null\" << cont << std::endl;\n",
        "        ++cont;\n",
        "    }\n",
        "}"
      ],
      "execution_count": 20,
      "outputs": [
        {
          "output_type": "stream",
          "text": [
            "Overwriting simplebstdot.cpp\n"
          ],
          "name": "stdout"
        }
      ]
    },
    {
      "cell_type": "markdown",
      "metadata": {
        "id": "o66DuzwgabDk",
        "colab_type": "text"
      },
      "source": [
        "## Eliminar en un árbol binario\n",
        "Primero debemos encontrar el elemento a eliminar. Luego debemos ubicar al mayor elemnto del hijo izquierdo y quitar dicho nodo, haciendo subir a su respectivo hizo izquierdo si existiera, caso contrario solamente subiremos al hizo derecho"
      ]
    },
    {
      "cell_type": "code",
      "metadata": {
        "id": "HKilI1xTaH2g",
        "colab_type": "code",
        "colab": {
          "base_uri": "https://localhost:8080/",
          "height": 34
        },
        "outputId": "1447c94a-41f8-4578-cadc-664f25da3b38"
      },
      "source": [
        "%%writefile simplebstremove.cpp\n",
        "\n",
        "#include \"simplebst.h\"\n",
        "\n",
        "void SimpleBST::remove(float elem) {\n",
        "    // Encontrar elemento a eliminar;\n",
        "    Node* aux = root;\n",
        "    Node* auxParent = nullptr;\n",
        "    bool leftChild;\n",
        "    while (aux != nullptr) {\n",
        "        if (elem == aux->element) {\n",
        "            break;\n",
        "        } else if (elem < aux->element) {\n",
        "            auxParent = aux;\n",
        "            leftChild = true;\n",
        "            aux = aux->left;\n",
        "        } else {\n",
        "            auxParent = aux;\n",
        "            leftChild = false;\n",
        "            aux = aux->right;\n",
        "        }\n",
        "    }\n",
        "    if (aux == nullptr) return;                 // No se encontró el elemento a eliminar\n",
        "\n",
        "    // Ahora eliminamos en caso no tenga hijo izquierdo\n",
        "    if (aux->left == nullptr) {                 // No tiene hijo izquierdo, sube el derecho\n",
        "        if (auxParent == nullptr) {             // El elemento a eliminar es root\n",
        "            root = aux->right;\n",
        "        } else if (leftChild) {                 // El elemento a eliminar es el izq de parent\n",
        "            auxParent->left = aux->right;\n",
        "        } else {                                // es el derecho de parent\n",
        "            auxParent->right = aux->right;\n",
        "        }\n",
        "        delete aux;\n",
        "        return;\n",
        "    }\n",
        "\n",
        "    // En caso si exista hijo izquierdo, buscamos al mayor de dicho subárbol\n",
        "    Node* aux2 = aux->left;\n",
        "    Node* aux2Parent = aux;\n",
        "    leftChild = true;\n",
        "    while (aux2->right != nullptr) {\n",
        "        aux2Parent = aux2;\n",
        "        leftChild = false;\n",
        "        aux2 = aux2->right;\n",
        "    }\n",
        "    aux->element = aux2->element;               // Reemplazamos al elemento a eliminar\n",
        "    if (leftChild) {\n",
        "        aux2Parent->left = aux2->left;\n",
        "    } else {\n",
        "        aux2Parent->right = aux2->left;\n",
        "    }\n",
        "    delete aux2;\n",
        "}\n"
      ],
      "execution_count": 21,
      "outputs": [
        {
          "output_type": "stream",
          "text": [
            "Overwriting simplebstremove.cpp\n"
          ],
          "name": "stdout"
        }
      ]
    },
    {
      "cell_type": "code",
      "metadata": {
        "id": "P-ECjza2e3-9",
        "colab_type": "code",
        "colab": {
          "base_uri": "https://localhost:8080/",
          "height": 34
        },
        "outputId": "0b6b558f-cc45-4b12-b307-de502b410096"
      },
      "source": [
        "%%writefile simplebstTest.cpp\n",
        "\n",
        "#include <iostream>\n",
        "#include <vector>\n",
        "#include \"simplebst.h\"\n",
        "\n",
        "using namespace std;\n",
        "\n",
        "int main() {\n",
        "    SimpleBST* bst = new SimpleBST();\n",
        "\n",
        "    vector<int> v = {34, 3, 1, 67, 69, 23, 4, 79, 43,\n",
        "                     20, 14, 54, 12, 8, 99, 15, 62, 26 };\n",
        "            \n",
        "    for (auto num: v) {\n",
        "        bst->add(num);\n",
        "    }\n",
        "\n",
        "    auto print = [](float x) { cout << x << \" \"; };\n",
        "\n",
        "    bst->postorder(print); cout << endl;\n",
        "    bst->preorder(print); cout << endl;\n",
        "    bst->inorder(print); cout << endl;\n",
        "\n",
        "    cout << bst->find(100) << endl;\n",
        "    cout << bst->find(4) << endl;\n",
        "\n",
        "    bst->generateDot(\"bst.dot\");\n",
        "\n",
        "    bst->remove(23);\n",
        "\n",
        "    bst->generateDot(\"bst2.dot\");\n",
        "\n",
        "    delete bst;\n",
        "    return 0;\n",
        "}"
      ],
      "execution_count": 22,
      "outputs": [
        {
          "output_type": "stream",
          "text": [
            "Overwriting simplebstTest.cpp\n"
          ],
          "name": "stdout"
        }
      ]
    },
    {
      "cell_type": "code",
      "metadata": {
        "id": "74IGjGmegQsQ",
        "colab_type": "code",
        "colab": {
          "base_uri": "https://localhost:8080/",
          "height": 101
        },
        "outputId": "f97172f2-06c2-4553-8f56-6dedcbb9fd3e"
      },
      "source": [
        "%%script bash\n",
        "\n",
        "g++ -std=c++17 *cpp && ./a.out"
      ],
      "execution_count": 23,
      "outputs": [
        {
          "output_type": "stream",
          "text": [
            "1 8 12 15 14 20 4 26 23 3 62 54 43 99 79 69 67 34 \n",
            "34 3 1 23 4 20 14 12 8 15 26 67 43 54 62 69 79 99 \n",
            "1 3 4 8 12 14 15 20 23 26 34 43 54 62 67 69 79 99 \n",
            "0\n",
            "1\n"
          ],
          "name": "stdout"
        }
      ]
    },
    {
      "cell_type": "code",
      "metadata": {
        "id": "7rf3TkihgePJ",
        "colab_type": "code",
        "colab": {
          "base_uri": "https://localhost:8080/",
          "height": 805
        },
        "outputId": "5affcceb-1b3b-4493-cb97-3706f686d371"
      },
      "source": [
        "import graphviz as gv\n",
        "gv.Source.from_file(\"bst.dot\")"
      ],
      "execution_count": 24,
      "outputs": [
        {
          "output_type": "execute_result",
          "data": {
            "text/plain": [
              "<graphviz.files.Source at 0x7f9def70b860>"
            ],
            "image/svg+xml": "<?xml version=\"1.0\" encoding=\"UTF-8\" standalone=\"no\"?>\n<!DOCTYPE svg PUBLIC \"-//W3C//DTD SVG 1.1//EN\"\n \"http://www.w3.org/Graphics/SVG/1.1/DTD/svg11.dtd\">\n<!-- Generated by graphviz version 2.40.1 (20161225.0304)\n -->\n<!-- Title: G Pages: 1 -->\n<svg width=\"407pt\" height=\"588pt\"\n viewBox=\"0.00 0.00 407.00 587.60\" xmlns=\"http://www.w3.org/2000/svg\" xmlns:xlink=\"http://www.w3.org/1999/xlink\">\n<g id=\"graph0\" class=\"graph\" transform=\"scale(1 1) rotate(0) translate(4 583.6)\">\n<title>G</title>\n<polygon fill=\"#ffffff\" stroke=\"transparent\" points=\"-4,4 -4,-583.6 403,-583.6 403,4 -4,4\"/>\n<!-- 34 -->\n<g id=\"node1\" class=\"node\">\n<title>34</title>\n<ellipse fill=\"none\" stroke=\"#000000\" cx=\"172\" cy=\"-561.6\" rx=\"27\" ry=\"18\"/>\n<text text-anchor=\"middle\" x=\"172\" y=\"-557.9\" font-family=\"Times,serif\" font-size=\"14.00\" fill=\"#000000\">34</text>\n</g>\n<!-- 3 -->\n<g id=\"node2\" class=\"node\">\n<title>3</title>\n<ellipse fill=\"none\" stroke=\"#000000\" cx=\"125\" cy=\"-489.6\" rx=\"27\" ry=\"18\"/>\n<text text-anchor=\"middle\" x=\"125\" y=\"-485.9\" font-family=\"Times,serif\" font-size=\"14.00\" fill=\"#000000\">3</text>\n</g>\n<!-- 34&#45;&gt;3 -->\n<g id=\"edge1\" class=\"edge\">\n<title>34&#45;&gt;3</title>\n<path fill=\"none\" stroke=\"#000000\" d=\"M161.0991,-544.9008C155.2264,-535.9043 147.8634,-524.6247 141.3213,-514.6029\"/>\n<polygon fill=\"#000000\" stroke=\"#000000\" points=\"144.2389,-512.6693 135.8418,-506.2087 138.3772,-516.4957 144.2389,-512.6693\"/>\n</g>\n<!-- 67 -->\n<g id=\"node23\" class=\"node\">\n<title>67</title>\n<ellipse fill=\"none\" stroke=\"#000000\" cx=\"219\" cy=\"-489.6\" rx=\"27\" ry=\"18\"/>\n<text text-anchor=\"middle\" x=\"219\" y=\"-485.9\" font-family=\"Times,serif\" font-size=\"14.00\" fill=\"#000000\">67</text>\n</g>\n<!-- 34&#45;&gt;67 -->\n<g id=\"edge22\" class=\"edge\">\n<title>34&#45;&gt;67</title>\n<path fill=\"none\" stroke=\"#000000\" d=\"M182.9009,-544.9008C188.7736,-535.9043 196.1366,-524.6247 202.6787,-514.6029\"/>\n<polygon fill=\"#000000\" stroke=\"#000000\" points=\"205.6228,-516.4957 208.1582,-506.2087 199.7611,-512.6693 205.6228,-516.4957\"/>\n</g>\n<!-- 1 -->\n<g id=\"node3\" class=\"node\">\n<title>1</title>\n<ellipse fill=\"none\" stroke=\"#000000\" cx=\"42\" cy=\"-417.6\" rx=\"27\" ry=\"18\"/>\n<text text-anchor=\"middle\" x=\"42\" y=\"-413.9\" font-family=\"Times,serif\" font-size=\"14.00\" fill=\"#000000\">1</text>\n</g>\n<!-- 3&#45;&gt;1 -->\n<g id=\"edge2\" class=\"edge\">\n<title>3&#45;&gt;1</title>\n<path fill=\"none\" stroke=\"#000000\" d=\"M108.2037,-475.0297C96.2002,-464.617 79.8613,-450.4435 66.4189,-438.7827\"/>\n<polygon fill=\"#000000\" stroke=\"#000000\" points=\"68.3354,-435.8118 58.4881,-431.9029 63.7485,-441.0996 68.3354,-435.8118\"/>\n</g>\n<!-- 23 -->\n<g id=\"node6\" class=\"node\">\n<title>23</title>\n<ellipse fill=\"none\" stroke=\"#000000\" cx=\"125\" cy=\"-417.6\" rx=\"27\" ry=\"18\"/>\n<text text-anchor=\"middle\" x=\"125\" y=\"-413.9\" font-family=\"Times,serif\" font-size=\"14.00\" fill=\"#000000\">23</text>\n</g>\n<!-- 3&#45;&gt;23 -->\n<g id=\"edge5\" class=\"edge\">\n<title>3&#45;&gt;23</title>\n<path fill=\"none\" stroke=\"#000000\" d=\"M125,-471.4314C125,-463.731 125,-454.5743 125,-446.0166\"/>\n<polygon fill=\"#000000\" stroke=\"#000000\" points=\"128.5001,-446.0132 125,-436.0133 121.5001,-446.0133 128.5001,-446.0132\"/>\n</g>\n<!-- null0 -->\n<g id=\"node4\" class=\"node\">\n<title>null0</title>\n<ellipse fill=\"#000000\" stroke=\"#000000\" cx=\"20\" cy=\"-345.6\" rx=\"1.8\" ry=\"1.8\"/>\n</g>\n<!-- 1&#45;&gt;null0 -->\n<g id=\"edge3\" class=\"edge\">\n<title>1&#45;&gt;null0</title>\n<path fill=\"none\" stroke=\"#000000\" d=\"M36.5618,-399.8022C32.494,-386.4895 27.0492,-368.67 23.5328,-357.1618\"/>\n<polygon fill=\"#000000\" stroke=\"#000000\" points=\"26.8278,-355.9678 20.5583,-347.4271 20.1333,-358.0134 26.8278,-355.9678\"/>\n</g>\n<!-- null1 -->\n<g id=\"node5\" class=\"node\">\n<title>null1</title>\n<ellipse fill=\"#000000\" stroke=\"#000000\" cx=\"42\" cy=\"-345.6\" rx=\"1.8\" ry=\"1.8\"/>\n</g>\n<!-- 1&#45;&gt;null1 -->\n<g id=\"edge4\" class=\"edge\">\n<title>1&#45;&gt;null1</title>\n<path fill=\"none\" stroke=\"#000000\" d=\"M42,-399.4314C42,-386.2567 42,-368.8195 42,-357.4119\"/>\n<polygon fill=\"#000000\" stroke=\"#000000\" points=\"45.5001,-357.4067 42,-347.4068 38.5001,-357.4068 45.5001,-357.4067\"/>\n</g>\n<!-- 4 -->\n<g id=\"node7\" class=\"node\">\n<title>4</title>\n<ellipse fill=\"none\" stroke=\"#000000\" cx=\"89\" cy=\"-345.6\" rx=\"27\" ry=\"18\"/>\n<text text-anchor=\"middle\" x=\"89\" y=\"-341.9\" font-family=\"Times,serif\" font-size=\"14.00\" fill=\"#000000\">4</text>\n</g>\n<!-- 23&#45;&gt;4 -->\n<g id=\"edge6\" class=\"edge\">\n<title>23&#45;&gt;4</title>\n<path fill=\"none\" stroke=\"#000000\" d=\"M116.2854,-400.1708C112.0403,-391.6807 106.8464,-381.2929 102.1337,-371.8674\"/>\n<polygon fill=\"#000000\" stroke=\"#000000\" points=\"105.237,-370.2477 97.6343,-362.8687 98.976,-373.3782 105.237,-370.2477\"/>\n</g>\n<!-- 26 -->\n<g id=\"node20\" class=\"node\">\n<title>26</title>\n<ellipse fill=\"none\" stroke=\"#000000\" cx=\"161\" cy=\"-345.6\" rx=\"27\" ry=\"18\"/>\n<text text-anchor=\"middle\" x=\"161\" y=\"-341.9\" font-family=\"Times,serif\" font-size=\"14.00\" fill=\"#000000\">26</text>\n</g>\n<!-- 23&#45;&gt;26 -->\n<g id=\"edge19\" class=\"edge\">\n<title>23&#45;&gt;26</title>\n<path fill=\"none\" stroke=\"#000000\" d=\"M133.7146,-400.1708C137.9597,-391.6807 143.1536,-381.2929 147.8663,-371.8674\"/>\n<polygon fill=\"#000000\" stroke=\"#000000\" points=\"151.024,-373.3782 152.3657,-362.8687 144.763,-370.2477 151.024,-373.3782\"/>\n</g>\n<!-- null2 -->\n<g id=\"node8\" class=\"node\">\n<title>null2</title>\n<ellipse fill=\"#000000\" stroke=\"#000000\" cx=\"49\" cy=\"-273.6\" rx=\"1.8\" ry=\"1.8\"/>\n</g>\n<!-- 4&#45;&gt;null2 -->\n<g id=\"edge7\" class=\"edge\">\n<title>4&#45;&gt;null2</title>\n<path fill=\"none\" stroke=\"#000000\" d=\"M79.5206,-328.537C71.8967,-314.814 61.4216,-295.9589 54.9378,-284.288\"/>\n<polygon fill=\"#000000\" stroke=\"#000000\" points=\"57.9539,-282.51 50.0379,-275.4681 51.8348,-285.9095 57.9539,-282.51\"/>\n</g>\n<!-- 20 -->\n<g id=\"node9\" class=\"node\">\n<title>20</title>\n<ellipse fill=\"none\" stroke=\"#000000\" cx=\"96\" cy=\"-273.6\" rx=\"27\" ry=\"18\"/>\n<text text-anchor=\"middle\" x=\"96\" y=\"-269.9\" font-family=\"Times,serif\" font-size=\"14.00\" fill=\"#000000\">20</text>\n</g>\n<!-- 4&#45;&gt;20 -->\n<g id=\"edge8\" class=\"edge\">\n<title>4&#45;&gt;20</title>\n<path fill=\"none\" stroke=\"#000000\" d=\"M90.7664,-327.4314C91.515,-319.731 92.4053,-310.5743 93.2373,-302.0166\"/>\n<polygon fill=\"#000000\" stroke=\"#000000\" points=\"96.7256,-302.3051 94.2098,-292.0133 89.7585,-301.6276 96.7256,-302.3051\"/>\n</g>\n<!-- 14 -->\n<g id=\"node10\" class=\"node\">\n<title>14</title>\n<ellipse fill=\"none\" stroke=\"#000000\" cx=\"72\" cy=\"-201.6\" rx=\"27\" ry=\"18\"/>\n<text text-anchor=\"middle\" x=\"72\" y=\"-197.9\" font-family=\"Times,serif\" font-size=\"14.00\" fill=\"#000000\">14</text>\n</g>\n<!-- 20&#45;&gt;14 -->\n<g id=\"edge9\" class=\"edge\">\n<title>20&#45;&gt;14</title>\n<path fill=\"none\" stroke=\"#000000\" d=\"M90.0674,-255.8022C87.3645,-247.6936 84.1043,-237.9129 81.1016,-228.9049\"/>\n<polygon fill=\"#000000\" stroke=\"#000000\" points=\"84.3471,-227.573 77.8643,-219.193 77.7063,-229.7867 84.3471,-227.573\"/>\n</g>\n<!-- null8 -->\n<g id=\"node19\" class=\"node\">\n<title>null8</title>\n<ellipse fill=\"#000000\" stroke=\"#000000\" cx=\"119\" cy=\"-201.6\" rx=\"1.8\" ry=\"1.8\"/>\n</g>\n<!-- 20&#45;&gt;null8 -->\n<g id=\"edge18\" class=\"edge\">\n<title>20&#45;&gt;null8</title>\n<path fill=\"none\" stroke=\"#000000\" d=\"M101.6854,-255.8022C105.9381,-242.4895 111.6304,-224.67 115.3066,-213.1618\"/>\n<polygon fill=\"#000000\" stroke=\"#000000\" points=\"118.7073,-214.018 118.4163,-203.4271 112.0393,-211.8878 118.7073,-214.018\"/>\n</g>\n<!-- 12 -->\n<g id=\"node11\" class=\"node\">\n<title>12</title>\n<ellipse fill=\"none\" stroke=\"#000000\" cx=\"36\" cy=\"-129.6\" rx=\"27\" ry=\"18\"/>\n<text text-anchor=\"middle\" x=\"36\" y=\"-125.9\" font-family=\"Times,serif\" font-size=\"14.00\" fill=\"#000000\">12</text>\n</g>\n<!-- 14&#45;&gt;12 -->\n<g id=\"edge10\" class=\"edge\">\n<title>14&#45;&gt;12</title>\n<path fill=\"none\" stroke=\"#000000\" d=\"M63.2854,-184.1708C59.0403,-175.6807 53.8464,-165.2929 49.1337,-155.8674\"/>\n<polygon fill=\"#000000\" stroke=\"#000000\" points=\"52.237,-154.2477 44.6343,-146.8687 45.976,-157.3782 52.237,-154.2477\"/>\n</g>\n<!-- 15 -->\n<g id=\"node16\" class=\"node\">\n<title>15</title>\n<ellipse fill=\"none\" stroke=\"#000000\" cx=\"108\" cy=\"-129.6\" rx=\"27\" ry=\"18\"/>\n<text text-anchor=\"middle\" x=\"108\" y=\"-125.9\" font-family=\"Times,serif\" font-size=\"14.00\" fill=\"#000000\">15</text>\n</g>\n<!-- 14&#45;&gt;15 -->\n<g id=\"edge15\" class=\"edge\">\n<title>14&#45;&gt;15</title>\n<path fill=\"none\" stroke=\"#000000\" d=\"M80.7146,-184.1708C84.9597,-175.6807 90.1536,-165.2929 94.8663,-155.8674\"/>\n<polygon fill=\"#000000\" stroke=\"#000000\" points=\"98.024,-157.3782 99.3657,-146.8687 91.763,-154.2477 98.024,-157.3782\"/>\n</g>\n<!-- 8 -->\n<g id=\"node12\" class=\"node\">\n<title>8</title>\n<ellipse fill=\"none\" stroke=\"#000000\" cx=\"27\" cy=\"-57.6\" rx=\"27\" ry=\"18\"/>\n<text text-anchor=\"middle\" x=\"27\" y=\"-53.9\" font-family=\"Times,serif\" font-size=\"14.00\" fill=\"#000000\">8</text>\n</g>\n<!-- 12&#45;&gt;8 -->\n<g id=\"edge11\" class=\"edge\">\n<title>12&#45;&gt;8</title>\n<path fill=\"none\" stroke=\"#000000\" d=\"M33.7289,-111.4314C32.7664,-103.731 31.6218,-94.5743 30.5521,-86.0166\"/>\n<polygon fill=\"#000000\" stroke=\"#000000\" points=\"34.0151,-85.5019 29.3017,-76.0133 27.0691,-86.3702 34.0151,-85.5019\"/>\n</g>\n<!-- null5 -->\n<g id=\"node15\" class=\"node\">\n<title>null5</title>\n<ellipse fill=\"#000000\" stroke=\"#000000\" cx=\"74\" cy=\"-57.6\" rx=\"1.8\" ry=\"1.8\"/>\n</g>\n<!-- 12&#45;&gt;null5 -->\n<g id=\"edge14\" class=\"edge\">\n<title>12&#45;&gt;null5</title>\n<path fill=\"none\" stroke=\"#000000\" d=\"M45.0055,-112.537C52.1727,-98.957 61.9925,-80.3511 68.1654,-68.6551\"/>\n<polygon fill=\"#000000\" stroke=\"#000000\" points=\"71.4417,-69.9457 73.014,-59.4681 65.251,-66.6783 71.4417,-69.9457\"/>\n</g>\n<!-- null3 -->\n<g id=\"node13\" class=\"node\">\n<title>null3</title>\n<ellipse fill=\"#000000\" stroke=\"#000000\" cx=\"16\" cy=\"-1.8\" rx=\"1.8\" ry=\"1.8\"/>\n</g>\n<!-- 8&#45;&gt;null3 -->\n<g id=\"edge12\" class=\"edge\">\n<title>8&#45;&gt;null3</title>\n<path fill=\"none\" stroke=\"#000000\" d=\"M23.459,-39.6374C21.7738,-31.0891 19.8064,-21.1091 18.3154,-13.5455\"/>\n<polygon fill=\"#000000\" stroke=\"#000000\" points=\"21.7174,-12.7061 16.3493,-3.5719 14.8496,-14.06 21.7174,-12.7061\"/>\n</g>\n<!-- null4 -->\n<g id=\"node14\" class=\"node\">\n<title>null4</title>\n<ellipse fill=\"#000000\" stroke=\"#000000\" cx=\"38\" cy=\"-1.8\" rx=\"1.8\" ry=\"1.8\"/>\n</g>\n<!-- 8&#45;&gt;null4 -->\n<g id=\"edge13\" class=\"edge\">\n<title>8&#45;&gt;null4</title>\n<path fill=\"none\" stroke=\"#000000\" d=\"M30.541,-39.6374C32.2262,-31.0891 34.1936,-21.1091 35.6846,-13.5455\"/>\n<polygon fill=\"#000000\" stroke=\"#000000\" points=\"39.1504,-14.06 37.6507,-3.5719 32.2826,-12.7061 39.1504,-14.06\"/>\n</g>\n<!-- null6 -->\n<g id=\"node17\" class=\"node\">\n<title>null6</title>\n<ellipse fill=\"#000000\" stroke=\"#000000\" cx=\"102\" cy=\"-57.6\" rx=\"1.8\" ry=\"1.8\"/>\n</g>\n<!-- 15&#45;&gt;null6 -->\n<g id=\"edge16\" class=\"edge\">\n<title>15&#45;&gt;null6</title>\n<path fill=\"none\" stroke=\"#000000\" d=\"M106.4859,-111.4314C105.3881,-98.2567 103.935,-80.8195 102.9843,-69.4119\"/>\n<polygon fill=\"#000000\" stroke=\"#000000\" points=\"106.469,-69.0815 102.1506,-59.4068 99.4932,-69.6629 106.469,-69.0815\"/>\n</g>\n<!-- null7 -->\n<g id=\"node18\" class=\"node\">\n<title>null7</title>\n<ellipse fill=\"#000000\" stroke=\"#000000\" cx=\"124\" cy=\"-57.6\" rx=\"1.8\" ry=\"1.8\"/>\n</g>\n<!-- 15&#45;&gt;null7 -->\n<g id=\"edge17\" class=\"edge\">\n<title>15&#45;&gt;null7</title>\n<path fill=\"none\" stroke=\"#000000\" d=\"M112.0375,-111.4314C114.9652,-98.2567 118.8401,-80.8195 121.3751,-69.4119\"/>\n<polygon fill=\"#000000\" stroke=\"#000000\" points=\"124.8458,-69.9279 123.5985,-59.4068 118.0125,-68.4094 124.8458,-69.9279\"/>\n</g>\n<!-- null9 -->\n<g id=\"node21\" class=\"node\">\n<title>null9</title>\n<ellipse fill=\"#000000\" stroke=\"#000000\" cx=\"155\" cy=\"-273.6\" rx=\"1.8\" ry=\"1.8\"/>\n</g>\n<!-- 26&#45;&gt;null9 -->\n<g id=\"edge20\" class=\"edge\">\n<title>26&#45;&gt;null9</title>\n<path fill=\"none\" stroke=\"#000000\" d=\"M159.4859,-327.4314C158.3881,-314.2567 156.935,-296.8195 155.9843,-285.4119\"/>\n<polygon fill=\"#000000\" stroke=\"#000000\" points=\"159.469,-285.0815 155.1506,-275.4068 152.4932,-285.6629 159.469,-285.0815\"/>\n</g>\n<!-- null10 -->\n<g id=\"node22\" class=\"node\">\n<title>null10</title>\n<ellipse fill=\"#000000\" stroke=\"#000000\" cx=\"177\" cy=\"-273.6\" rx=\"1.8\" ry=\"1.8\"/>\n</g>\n<!-- 26&#45;&gt;null10 -->\n<g id=\"edge21\" class=\"edge\">\n<title>26&#45;&gt;null10</title>\n<path fill=\"none\" stroke=\"#000000\" d=\"M165.0375,-327.4314C167.9652,-314.2567 171.8401,-296.8195 174.3751,-285.4119\"/>\n<polygon fill=\"#000000\" stroke=\"#000000\" points=\"177.8458,-285.9279 176.5985,-275.4068 171.0125,-284.4094 177.8458,-285.9279\"/>\n</g>\n<!-- 43 -->\n<g id=\"node24\" class=\"node\">\n<title>43</title>\n<ellipse fill=\"none\" stroke=\"#000000\" cx=\"219\" cy=\"-417.6\" rx=\"27\" ry=\"18\"/>\n<text text-anchor=\"middle\" x=\"219\" y=\"-413.9\" font-family=\"Times,serif\" font-size=\"14.00\" fill=\"#000000\">43</text>\n</g>\n<!-- 67&#45;&gt;43 -->\n<g id=\"edge23\" class=\"edge\">\n<title>67&#45;&gt;43</title>\n<path fill=\"none\" stroke=\"#000000\" d=\"M219,-471.4314C219,-463.731 219,-454.5743 219,-446.0166\"/>\n<polygon fill=\"#000000\" stroke=\"#000000\" points=\"222.5001,-446.0132 219,-436.0133 215.5001,-446.0133 222.5001,-446.0132\"/>\n</g>\n<!-- 69 -->\n<g id=\"node31\" class=\"node\">\n<title>69</title>\n<ellipse fill=\"none\" stroke=\"#000000\" cx=\"302\" cy=\"-417.6\" rx=\"27\" ry=\"18\"/>\n<text text-anchor=\"middle\" x=\"302\" y=\"-413.9\" font-family=\"Times,serif\" font-size=\"14.00\" fill=\"#000000\">69</text>\n</g>\n<!-- 67&#45;&gt;69 -->\n<g id=\"edge30\" class=\"edge\">\n<title>67&#45;&gt;69</title>\n<path fill=\"none\" stroke=\"#000000\" d=\"M235.7963,-475.0297C247.7998,-464.617 264.1387,-450.4435 277.5811,-438.7827\"/>\n<polygon fill=\"#000000\" stroke=\"#000000\" points=\"280.2515,-441.0996 285.5119,-431.9029 275.6646,-435.8118 280.2515,-441.0996\"/>\n</g>\n<!-- null11 -->\n<g id=\"node25\" class=\"node\">\n<title>null11</title>\n<ellipse fill=\"#000000\" stroke=\"#000000\" cx=\"208\" cy=\"-345.6\" rx=\"1.8\" ry=\"1.8\"/>\n</g>\n<!-- 43&#45;&gt;null11 -->\n<g id=\"edge24\" class=\"edge\">\n<title>43&#45;&gt;null11</title>\n<path fill=\"none\" stroke=\"#000000\" d=\"M216.2242,-399.4314C214.2114,-386.2567 211.5474,-368.8195 209.8046,-357.4119\"/>\n<polygon fill=\"#000000\" stroke=\"#000000\" points=\"213.2462,-356.7634 208.276,-347.4068 206.3265,-357.8207 213.2462,-356.7634\"/>\n</g>\n<!-- 54 -->\n<g id=\"node26\" class=\"node\">\n<title>54</title>\n<ellipse fill=\"none\" stroke=\"#000000\" cx=\"255\" cy=\"-345.6\" rx=\"27\" ry=\"18\"/>\n<text text-anchor=\"middle\" x=\"255\" y=\"-341.9\" font-family=\"Times,serif\" font-size=\"14.00\" fill=\"#000000\">54</text>\n</g>\n<!-- 43&#45;&gt;54 -->\n<g id=\"edge25\" class=\"edge\">\n<title>43&#45;&gt;54</title>\n<path fill=\"none\" stroke=\"#000000\" d=\"M227.7146,-400.1708C231.9597,-391.6807 237.1536,-381.2929 241.8663,-371.8674\"/>\n<polygon fill=\"#000000\" stroke=\"#000000\" points=\"245.024,-373.3782 246.3657,-362.8687 238.763,-370.2477 245.024,-373.3782\"/>\n</g>\n<!-- null12 -->\n<g id=\"node27\" class=\"node\">\n<title>null12</title>\n<ellipse fill=\"#000000\" stroke=\"#000000\" cx=\"231\" cy=\"-273.6\" rx=\"1.8\" ry=\"1.8\"/>\n</g>\n<!-- 54&#45;&gt;null12 -->\n<g id=\"edge26\" class=\"edge\">\n<title>54&#45;&gt;null12</title>\n<path fill=\"none\" stroke=\"#000000\" d=\"M249.0674,-327.8022C244.6298,-314.4895 238.69,-296.67 234.8539,-285.1618\"/>\n<polygon fill=\"#000000\" stroke=\"#000000\" points=\"238.0918,-283.8071 231.609,-275.4271 231.451,-286.0208 238.0918,-283.8071\"/>\n</g>\n<!-- 62 -->\n<g id=\"node28\" class=\"node\">\n<title>62</title>\n<ellipse fill=\"none\" stroke=\"#000000\" cx=\"278\" cy=\"-273.6\" rx=\"27\" ry=\"18\"/>\n<text text-anchor=\"middle\" x=\"278\" y=\"-269.9\" font-family=\"Times,serif\" font-size=\"14.00\" fill=\"#000000\">62</text>\n</g>\n<!-- 54&#45;&gt;62 -->\n<g id=\"edge27\" class=\"edge\">\n<title>54&#45;&gt;62</title>\n<path fill=\"none\" stroke=\"#000000\" d=\"M260.6854,-327.8022C263.2563,-319.7541 266.3534,-310.0588 269.2132,-301.1067\"/>\n<polygon fill=\"#000000\" stroke=\"#000000\" points=\"272.5913,-302.0334 272.3003,-291.4425 265.9232,-299.9033 272.5913,-302.0334\"/>\n</g>\n<!-- null13 -->\n<g id=\"node29\" class=\"node\">\n<title>null13</title>\n<ellipse fill=\"#000000\" stroke=\"#000000\" cx=\"267\" cy=\"-201.6\" rx=\"1.8\" ry=\"1.8\"/>\n</g>\n<!-- 62&#45;&gt;null13 -->\n<g id=\"edge28\" class=\"edge\">\n<title>62&#45;&gt;null13</title>\n<path fill=\"none\" stroke=\"#000000\" d=\"M275.2242,-255.4314C273.2114,-242.2567 270.5474,-224.8195 268.8046,-213.4119\"/>\n<polygon fill=\"#000000\" stroke=\"#000000\" points=\"272.2462,-212.7634 267.276,-203.4068 265.3265,-213.8207 272.2462,-212.7634\"/>\n</g>\n<!-- null14 -->\n<g id=\"node30\" class=\"node\">\n<title>null14</title>\n<ellipse fill=\"#000000\" stroke=\"#000000\" cx=\"289\" cy=\"-201.6\" rx=\"1.8\" ry=\"1.8\"/>\n</g>\n<!-- 62&#45;&gt;null14 -->\n<g id=\"edge29\" class=\"edge\">\n<title>62&#45;&gt;null14</title>\n<path fill=\"none\" stroke=\"#000000\" d=\"M280.7758,-255.4314C282.7886,-242.2567 285.4526,-224.8195 287.1954,-213.4119\"/>\n<polygon fill=\"#000000\" stroke=\"#000000\" points=\"290.6735,-213.8207 288.724,-203.4068 283.7538,-212.7634 290.6735,-213.8207\"/>\n</g>\n<!-- null15 -->\n<g id=\"node32\" class=\"node\">\n<title>null15</title>\n<ellipse fill=\"#000000\" stroke=\"#000000\" cx=\"302\" cy=\"-345.6\" rx=\"1.8\" ry=\"1.8\"/>\n</g>\n<!-- 69&#45;&gt;null15 -->\n<g id=\"edge31\" class=\"edge\">\n<title>69&#45;&gt;null15</title>\n<path fill=\"none\" stroke=\"#000000\" d=\"M302,-399.4314C302,-386.2567 302,-368.8195 302,-357.4119\"/>\n<polygon fill=\"#000000\" stroke=\"#000000\" points=\"305.5001,-357.4067 302,-347.4068 298.5001,-357.4068 305.5001,-357.4067\"/>\n</g>\n<!-- 79 -->\n<g id=\"node33\" class=\"node\">\n<title>79</title>\n<ellipse fill=\"none\" stroke=\"#000000\" cx=\"349\" cy=\"-345.6\" rx=\"27\" ry=\"18\"/>\n<text text-anchor=\"middle\" x=\"349\" y=\"-341.9\" font-family=\"Times,serif\" font-size=\"14.00\" fill=\"#000000\">79</text>\n</g>\n<!-- 69&#45;&gt;79 -->\n<g id=\"edge32\" class=\"edge\">\n<title>69&#45;&gt;79</title>\n<path fill=\"none\" stroke=\"#000000\" d=\"M312.9009,-400.9008C318.7736,-391.9043 326.1366,-380.6247 332.6787,-370.6029\"/>\n<polygon fill=\"#000000\" stroke=\"#000000\" points=\"335.6228,-372.4957 338.1582,-362.2087 329.7611,-368.6693 335.6228,-372.4957\"/>\n</g>\n<!-- null16 -->\n<g id=\"node34\" class=\"node\">\n<title>null16</title>\n<ellipse fill=\"#000000\" stroke=\"#000000\" cx=\"325\" cy=\"-273.6\" rx=\"1.8\" ry=\"1.8\"/>\n</g>\n<!-- 79&#45;&gt;null16 -->\n<g id=\"edge33\" class=\"edge\">\n<title>79&#45;&gt;null16</title>\n<path fill=\"none\" stroke=\"#000000\" d=\"M343.0674,-327.8022C338.6298,-314.4895 332.69,-296.67 328.8539,-285.1618\"/>\n<polygon fill=\"#000000\" stroke=\"#000000\" points=\"332.0918,-283.8071 325.609,-275.4271 325.451,-286.0208 332.0918,-283.8071\"/>\n</g>\n<!-- 99 -->\n<g id=\"node35\" class=\"node\">\n<title>99</title>\n<ellipse fill=\"none\" stroke=\"#000000\" cx=\"372\" cy=\"-273.6\" rx=\"27\" ry=\"18\"/>\n<text text-anchor=\"middle\" x=\"372\" y=\"-269.9\" font-family=\"Times,serif\" font-size=\"14.00\" fill=\"#000000\">99</text>\n</g>\n<!-- 79&#45;&gt;99 -->\n<g id=\"edge34\" class=\"edge\">\n<title>79&#45;&gt;99</title>\n<path fill=\"none\" stroke=\"#000000\" d=\"M354.6854,-327.8022C357.2563,-319.7541 360.3534,-310.0588 363.2132,-301.1067\"/>\n<polygon fill=\"#000000\" stroke=\"#000000\" points=\"366.5913,-302.0334 366.3003,-291.4425 359.9232,-299.9033 366.5913,-302.0334\"/>\n</g>\n<!-- null17 -->\n<g id=\"node36\" class=\"node\">\n<title>null17</title>\n<ellipse fill=\"#000000\" stroke=\"#000000\" cx=\"361\" cy=\"-201.6\" rx=\"1.8\" ry=\"1.8\"/>\n</g>\n<!-- 99&#45;&gt;null17 -->\n<g id=\"edge35\" class=\"edge\">\n<title>99&#45;&gt;null17</title>\n<path fill=\"none\" stroke=\"#000000\" d=\"M369.2242,-255.4314C367.2114,-242.2567 364.5474,-224.8195 362.8046,-213.4119\"/>\n<polygon fill=\"#000000\" stroke=\"#000000\" points=\"366.2462,-212.7634 361.276,-203.4068 359.3265,-213.8207 366.2462,-212.7634\"/>\n</g>\n<!-- null18 -->\n<g id=\"node37\" class=\"node\">\n<title>null18</title>\n<ellipse fill=\"#000000\" stroke=\"#000000\" cx=\"383\" cy=\"-201.6\" rx=\"1.8\" ry=\"1.8\"/>\n</g>\n<!-- 99&#45;&gt;null18 -->\n<g id=\"edge36\" class=\"edge\">\n<title>99&#45;&gt;null18</title>\n<path fill=\"none\" stroke=\"#000000\" d=\"M374.7758,-255.4314C376.7886,-242.2567 379.4526,-224.8195 381.1954,-213.4119\"/>\n<polygon fill=\"#000000\" stroke=\"#000000\" points=\"384.6735,-213.8207 382.724,-203.4068 377.7538,-212.7634 384.6735,-213.8207\"/>\n</g>\n</g>\n</svg>\n"
          },
          "metadata": {
            "tags": []
          },
          "execution_count": 24
        }
      ]
    },
    {
      "cell_type": "code",
      "metadata": {
        "id": "OS9ZasK6-ctb",
        "colab_type": "code",
        "colab": {
          "base_uri": "https://localhost:8080/",
          "height": 709
        },
        "outputId": "965a1b12-53e3-44ac-e127-d4d7e2b71250"
      },
      "source": [
        "gv.Source.from_file(\"bst2.dot\")"
      ],
      "execution_count": 25,
      "outputs": [
        {
          "output_type": "execute_result",
          "data": {
            "text/plain": [
              "<graphviz.files.Source at 0x7f9def70b0f0>"
            ],
            "image/svg+xml": "<?xml version=\"1.0\" encoding=\"UTF-8\" standalone=\"no\"?>\n<!DOCTYPE svg PUBLIC \"-//W3C//DTD SVG 1.1//EN\"\n \"http://www.w3.org/Graphics/SVG/1.1/DTD/svg11.dtd\">\n<!-- Generated by graphviz version 2.40.1 (20161225.0304)\n -->\n<!-- Title: G Pages: 1 -->\n<svg width=\"392pt\" height=\"516pt\"\n viewBox=\"0.00 0.00 392.00 515.60\" xmlns=\"http://www.w3.org/2000/svg\" xmlns:xlink=\"http://www.w3.org/1999/xlink\">\n<g id=\"graph0\" class=\"graph\" transform=\"scale(1 1) rotate(0) translate(4 511.6)\">\n<title>G</title>\n<polygon fill=\"#ffffff\" stroke=\"transparent\" points=\"-4,4 -4,-511.6 388,-511.6 388,4 -4,4\"/>\n<!-- 34 -->\n<g id=\"node1\" class=\"node\">\n<title>34</title>\n<ellipse fill=\"none\" stroke=\"#000000\" cx=\"157\" cy=\"-489.6\" rx=\"27\" ry=\"18\"/>\n<text text-anchor=\"middle\" x=\"157\" y=\"-485.9\" font-family=\"Times,serif\" font-size=\"14.00\" fill=\"#000000\">34</text>\n</g>\n<!-- 3 -->\n<g id=\"node2\" class=\"node\">\n<title>3</title>\n<ellipse fill=\"none\" stroke=\"#000000\" cx=\"110\" cy=\"-417.6\" rx=\"27\" ry=\"18\"/>\n<text text-anchor=\"middle\" x=\"110\" y=\"-413.9\" font-family=\"Times,serif\" font-size=\"14.00\" fill=\"#000000\">3</text>\n</g>\n<!-- 34&#45;&gt;3 -->\n<g id=\"edge1\" class=\"edge\">\n<title>34&#45;&gt;3</title>\n<path fill=\"none\" stroke=\"#000000\" d=\"M146.0991,-472.9008C140.2264,-463.9043 132.8634,-452.6247 126.3213,-442.6029\"/>\n<polygon fill=\"#000000\" stroke=\"#000000\" points=\"129.2389,-440.6693 120.8418,-434.2087 123.3772,-444.4957 129.2389,-440.6693\"/>\n</g>\n<!-- 67 -->\n<g id=\"node21\" class=\"node\">\n<title>67</title>\n<ellipse fill=\"none\" stroke=\"#000000\" cx=\"204\" cy=\"-417.6\" rx=\"27\" ry=\"18\"/>\n<text text-anchor=\"middle\" x=\"204\" y=\"-413.9\" font-family=\"Times,serif\" font-size=\"14.00\" fill=\"#000000\">67</text>\n</g>\n<!-- 34&#45;&gt;67 -->\n<g id=\"edge20\" class=\"edge\">\n<title>34&#45;&gt;67</title>\n<path fill=\"none\" stroke=\"#000000\" d=\"M167.9009,-472.9008C173.7736,-463.9043 181.1366,-452.6247 187.6787,-442.6029\"/>\n<polygon fill=\"#000000\" stroke=\"#000000\" points=\"190.6228,-444.4957 193.1582,-434.2087 184.7611,-440.6693 190.6228,-444.4957\"/>\n</g>\n<!-- 1 -->\n<g id=\"node3\" class=\"node\">\n<title>1</title>\n<ellipse fill=\"none\" stroke=\"#000000\" cx=\"27\" cy=\"-345.6\" rx=\"27\" ry=\"18\"/>\n<text text-anchor=\"middle\" x=\"27\" y=\"-341.9\" font-family=\"Times,serif\" font-size=\"14.00\" fill=\"#000000\">1</text>\n</g>\n<!-- 3&#45;&gt;1 -->\n<g id=\"edge2\" class=\"edge\">\n<title>3&#45;&gt;1</title>\n<path fill=\"none\" stroke=\"#000000\" d=\"M93.2037,-403.0297C81.2002,-392.617 64.8613,-378.4435 51.4189,-366.7827\"/>\n<polygon fill=\"#000000\" stroke=\"#000000\" points=\"53.3354,-363.8118 43.4881,-359.9029 48.7485,-369.0996 53.3354,-363.8118\"/>\n</g>\n<!-- 20 -->\n<g id=\"node6\" class=\"node\">\n<title>20</title>\n<ellipse fill=\"none\" stroke=\"#000000\" cx=\"110\" cy=\"-345.6\" rx=\"27\" ry=\"18\"/>\n<text text-anchor=\"middle\" x=\"110\" y=\"-341.9\" font-family=\"Times,serif\" font-size=\"14.00\" fill=\"#000000\">20</text>\n</g>\n<!-- 3&#45;&gt;20 -->\n<g id=\"edge5\" class=\"edge\">\n<title>3&#45;&gt;20</title>\n<path fill=\"none\" stroke=\"#000000\" d=\"M110,-399.4314C110,-391.731 110,-382.5743 110,-374.0166\"/>\n<polygon fill=\"#000000\" stroke=\"#000000\" points=\"113.5001,-374.0132 110,-364.0133 106.5001,-374.0133 113.5001,-374.0132\"/>\n</g>\n<!-- null0 -->\n<g id=\"node4\" class=\"node\">\n<title>null0</title>\n<ellipse fill=\"#000000\" stroke=\"#000000\" cx=\"5\" cy=\"-273.6\" rx=\"1.8\" ry=\"1.8\"/>\n</g>\n<!-- 1&#45;&gt;null0 -->\n<g id=\"edge3\" class=\"edge\">\n<title>1&#45;&gt;null0</title>\n<path fill=\"none\" stroke=\"#000000\" d=\"M21.5618,-327.8022C17.494,-314.4895 12.0492,-296.67 8.5328,-285.1618\"/>\n<polygon fill=\"#000000\" stroke=\"#000000\" points=\"11.8278,-283.9678 5.5583,-275.4271 5.1333,-286.0134 11.8278,-283.9678\"/>\n</g>\n<!-- null1 -->\n<g id=\"node5\" class=\"node\">\n<title>null1</title>\n<ellipse fill=\"#000000\" stroke=\"#000000\" cx=\"27\" cy=\"-273.6\" rx=\"1.8\" ry=\"1.8\"/>\n</g>\n<!-- 1&#45;&gt;null1 -->\n<g id=\"edge4\" class=\"edge\">\n<title>1&#45;&gt;null1</title>\n<path fill=\"none\" stroke=\"#000000\" d=\"M27,-327.4314C27,-314.2567 27,-296.8195 27,-285.4119\"/>\n<polygon fill=\"#000000\" stroke=\"#000000\" points=\"30.5001,-285.4067 27,-275.4068 23.5001,-285.4068 30.5001,-285.4067\"/>\n</g>\n<!-- 4 -->\n<g id=\"node7\" class=\"node\">\n<title>4</title>\n<ellipse fill=\"none\" stroke=\"#000000\" cx=\"74\" cy=\"-273.6\" rx=\"27\" ry=\"18\"/>\n<text text-anchor=\"middle\" x=\"74\" y=\"-269.9\" font-family=\"Times,serif\" font-size=\"14.00\" fill=\"#000000\">4</text>\n</g>\n<!-- 20&#45;&gt;4 -->\n<g id=\"edge6\" class=\"edge\">\n<title>20&#45;&gt;4</title>\n<path fill=\"none\" stroke=\"#000000\" d=\"M101.2854,-328.1708C97.0403,-319.6807 91.8464,-309.2929 87.1337,-299.8674\"/>\n<polygon fill=\"#000000\" stroke=\"#000000\" points=\"90.237,-298.2477 82.6343,-290.8687 83.976,-301.3782 90.237,-298.2477\"/>\n</g>\n<!-- 26 -->\n<g id=\"node18\" class=\"node\">\n<title>26</title>\n<ellipse fill=\"none\" stroke=\"#000000\" cx=\"146\" cy=\"-273.6\" rx=\"27\" ry=\"18\"/>\n<text text-anchor=\"middle\" x=\"146\" y=\"-269.9\" font-family=\"Times,serif\" font-size=\"14.00\" fill=\"#000000\">26</text>\n</g>\n<!-- 20&#45;&gt;26 -->\n<g id=\"edge17\" class=\"edge\">\n<title>20&#45;&gt;26</title>\n<path fill=\"none\" stroke=\"#000000\" d=\"M118.7146,-328.1708C122.9597,-319.6807 128.1536,-309.2929 132.8663,-299.8674\"/>\n<polygon fill=\"#000000\" stroke=\"#000000\" points=\"136.024,-301.3782 137.3657,-290.8687 129.763,-298.2477 136.024,-301.3782\"/>\n</g>\n<!-- null2 -->\n<g id=\"node8\" class=\"node\">\n<title>null2</title>\n<ellipse fill=\"#000000\" stroke=\"#000000\" cx=\"34\" cy=\"-201.6\" rx=\"1.8\" ry=\"1.8\"/>\n</g>\n<!-- 4&#45;&gt;null2 -->\n<g id=\"edge7\" class=\"edge\">\n<title>4&#45;&gt;null2</title>\n<path fill=\"none\" stroke=\"#000000\" d=\"M64.5206,-256.537C56.8967,-242.814 46.4216,-223.9589 39.9378,-212.288\"/>\n<polygon fill=\"#000000\" stroke=\"#000000\" points=\"42.9539,-210.51 35.0379,-203.4681 36.8348,-213.9095 42.9539,-210.51\"/>\n</g>\n<!-- 14 -->\n<g id=\"node9\" class=\"node\">\n<title>14</title>\n<ellipse fill=\"none\" stroke=\"#000000\" cx=\"81\" cy=\"-201.6\" rx=\"27\" ry=\"18\"/>\n<text text-anchor=\"middle\" x=\"81\" y=\"-197.9\" font-family=\"Times,serif\" font-size=\"14.00\" fill=\"#000000\">14</text>\n</g>\n<!-- 4&#45;&gt;14 -->\n<g id=\"edge8\" class=\"edge\">\n<title>4&#45;&gt;14</title>\n<path fill=\"none\" stroke=\"#000000\" d=\"M75.7664,-255.4314C76.515,-247.731 77.4053,-238.5743 78.2373,-230.0166\"/>\n<polygon fill=\"#000000\" stroke=\"#000000\" points=\"81.7256,-230.3051 79.2098,-220.0133 74.7585,-229.6276 81.7256,-230.3051\"/>\n</g>\n<!-- 12 -->\n<g id=\"node10\" class=\"node\">\n<title>12</title>\n<ellipse fill=\"none\" stroke=\"#000000\" cx=\"45\" cy=\"-129.6\" rx=\"27\" ry=\"18\"/>\n<text text-anchor=\"middle\" x=\"45\" y=\"-125.9\" font-family=\"Times,serif\" font-size=\"14.00\" fill=\"#000000\">12</text>\n</g>\n<!-- 14&#45;&gt;12 -->\n<g id=\"edge9\" class=\"edge\">\n<title>14&#45;&gt;12</title>\n<path fill=\"none\" stroke=\"#000000\" d=\"M72.2854,-184.1708C68.0403,-175.6807 62.8464,-165.2929 58.1337,-155.8674\"/>\n<polygon fill=\"#000000\" stroke=\"#000000\" points=\"61.237,-154.2477 53.6343,-146.8687 54.976,-157.3782 61.237,-154.2477\"/>\n</g>\n<!-- 15 -->\n<g id=\"node15\" class=\"node\">\n<title>15</title>\n<ellipse fill=\"none\" stroke=\"#000000\" cx=\"117\" cy=\"-129.6\" rx=\"27\" ry=\"18\"/>\n<text text-anchor=\"middle\" x=\"117\" y=\"-125.9\" font-family=\"Times,serif\" font-size=\"14.00\" fill=\"#000000\">15</text>\n</g>\n<!-- 14&#45;&gt;15 -->\n<g id=\"edge14\" class=\"edge\">\n<title>14&#45;&gt;15</title>\n<path fill=\"none\" stroke=\"#000000\" d=\"M89.7146,-184.1708C93.9597,-175.6807 99.1536,-165.2929 103.8663,-155.8674\"/>\n<polygon fill=\"#000000\" stroke=\"#000000\" points=\"107.024,-157.3782 108.3657,-146.8687 100.763,-154.2477 107.024,-157.3782\"/>\n</g>\n<!-- 8 -->\n<g id=\"node11\" class=\"node\">\n<title>8</title>\n<ellipse fill=\"none\" stroke=\"#000000\" cx=\"36\" cy=\"-57.6\" rx=\"27\" ry=\"18\"/>\n<text text-anchor=\"middle\" x=\"36\" y=\"-53.9\" font-family=\"Times,serif\" font-size=\"14.00\" fill=\"#000000\">8</text>\n</g>\n<!-- 12&#45;&gt;8 -->\n<g id=\"edge10\" class=\"edge\">\n<title>12&#45;&gt;8</title>\n<path fill=\"none\" stroke=\"#000000\" d=\"M42.7289,-111.4314C41.7664,-103.731 40.6218,-94.5743 39.5521,-86.0166\"/>\n<polygon fill=\"#000000\" stroke=\"#000000\" points=\"43.0151,-85.5019 38.3017,-76.0133 36.0691,-86.3702 43.0151,-85.5019\"/>\n</g>\n<!-- null5 -->\n<g id=\"node14\" class=\"node\">\n<title>null5</title>\n<ellipse fill=\"#000000\" stroke=\"#000000\" cx=\"83\" cy=\"-57.6\" rx=\"1.8\" ry=\"1.8\"/>\n</g>\n<!-- 12&#45;&gt;null5 -->\n<g id=\"edge13\" class=\"edge\">\n<title>12&#45;&gt;null5</title>\n<path fill=\"none\" stroke=\"#000000\" d=\"M54.0055,-112.537C61.1727,-98.957 70.9925,-80.3511 77.1654,-68.6551\"/>\n<polygon fill=\"#000000\" stroke=\"#000000\" points=\"80.4417,-69.9457 82.014,-59.4681 74.251,-66.6783 80.4417,-69.9457\"/>\n</g>\n<!-- null3 -->\n<g id=\"node12\" class=\"node\">\n<title>null3</title>\n<ellipse fill=\"#000000\" stroke=\"#000000\" cx=\"25\" cy=\"-1.8\" rx=\"1.8\" ry=\"1.8\"/>\n</g>\n<!-- 8&#45;&gt;null3 -->\n<g id=\"edge11\" class=\"edge\">\n<title>8&#45;&gt;null3</title>\n<path fill=\"none\" stroke=\"#000000\" d=\"M32.459,-39.6374C30.7738,-31.0891 28.8064,-21.1091 27.3154,-13.5455\"/>\n<polygon fill=\"#000000\" stroke=\"#000000\" points=\"30.7174,-12.7061 25.3493,-3.5719 23.8496,-14.06 30.7174,-12.7061\"/>\n</g>\n<!-- null4 -->\n<g id=\"node13\" class=\"node\">\n<title>null4</title>\n<ellipse fill=\"#000000\" stroke=\"#000000\" cx=\"47\" cy=\"-1.8\" rx=\"1.8\" ry=\"1.8\"/>\n</g>\n<!-- 8&#45;&gt;null4 -->\n<g id=\"edge12\" class=\"edge\">\n<title>8&#45;&gt;null4</title>\n<path fill=\"none\" stroke=\"#000000\" d=\"M39.541,-39.6374C41.2262,-31.0891 43.1936,-21.1091 44.6846,-13.5455\"/>\n<polygon fill=\"#000000\" stroke=\"#000000\" points=\"48.1504,-14.06 46.6507,-3.5719 41.2826,-12.7061 48.1504,-14.06\"/>\n</g>\n<!-- null6 -->\n<g id=\"node16\" class=\"node\">\n<title>null6</title>\n<ellipse fill=\"#000000\" stroke=\"#000000\" cx=\"111\" cy=\"-57.6\" rx=\"1.8\" ry=\"1.8\"/>\n</g>\n<!-- 15&#45;&gt;null6 -->\n<g id=\"edge15\" class=\"edge\">\n<title>15&#45;&gt;null6</title>\n<path fill=\"none\" stroke=\"#000000\" d=\"M115.4859,-111.4314C114.3881,-98.2567 112.935,-80.8195 111.9843,-69.4119\"/>\n<polygon fill=\"#000000\" stroke=\"#000000\" points=\"115.469,-69.0815 111.1506,-59.4068 108.4932,-69.6629 115.469,-69.0815\"/>\n</g>\n<!-- null7 -->\n<g id=\"node17\" class=\"node\">\n<title>null7</title>\n<ellipse fill=\"#000000\" stroke=\"#000000\" cx=\"133\" cy=\"-57.6\" rx=\"1.8\" ry=\"1.8\"/>\n</g>\n<!-- 15&#45;&gt;null7 -->\n<g id=\"edge16\" class=\"edge\">\n<title>15&#45;&gt;null7</title>\n<path fill=\"none\" stroke=\"#000000\" d=\"M121.0375,-111.4314C123.9652,-98.2567 127.8401,-80.8195 130.3751,-69.4119\"/>\n<polygon fill=\"#000000\" stroke=\"#000000\" points=\"133.8458,-69.9279 132.5985,-59.4068 127.0125,-68.4094 133.8458,-69.9279\"/>\n</g>\n<!-- null8 -->\n<g id=\"node19\" class=\"node\">\n<title>null8</title>\n<ellipse fill=\"#000000\" stroke=\"#000000\" cx=\"140\" cy=\"-201.6\" rx=\"1.8\" ry=\"1.8\"/>\n</g>\n<!-- 26&#45;&gt;null8 -->\n<g id=\"edge18\" class=\"edge\">\n<title>26&#45;&gt;null8</title>\n<path fill=\"none\" stroke=\"#000000\" d=\"M144.4859,-255.4314C143.3881,-242.2567 141.935,-224.8195 140.9843,-213.4119\"/>\n<polygon fill=\"#000000\" stroke=\"#000000\" points=\"144.469,-213.0815 140.1506,-203.4068 137.4932,-213.6629 144.469,-213.0815\"/>\n</g>\n<!-- null9 -->\n<g id=\"node20\" class=\"node\">\n<title>null9</title>\n<ellipse fill=\"#000000\" stroke=\"#000000\" cx=\"162\" cy=\"-201.6\" rx=\"1.8\" ry=\"1.8\"/>\n</g>\n<!-- 26&#45;&gt;null9 -->\n<g id=\"edge19\" class=\"edge\">\n<title>26&#45;&gt;null9</title>\n<path fill=\"none\" stroke=\"#000000\" d=\"M150.0375,-255.4314C152.9652,-242.2567 156.8401,-224.8195 159.3751,-213.4119\"/>\n<polygon fill=\"#000000\" stroke=\"#000000\" points=\"162.8458,-213.9279 161.5985,-203.4068 156.0125,-212.4094 162.8458,-213.9279\"/>\n</g>\n<!-- 43 -->\n<g id=\"node22\" class=\"node\">\n<title>43</title>\n<ellipse fill=\"none\" stroke=\"#000000\" cx=\"204\" cy=\"-345.6\" rx=\"27\" ry=\"18\"/>\n<text text-anchor=\"middle\" x=\"204\" y=\"-341.9\" font-family=\"Times,serif\" font-size=\"14.00\" fill=\"#000000\">43</text>\n</g>\n<!-- 67&#45;&gt;43 -->\n<g id=\"edge21\" class=\"edge\">\n<title>67&#45;&gt;43</title>\n<path fill=\"none\" stroke=\"#000000\" d=\"M204,-399.4314C204,-391.731 204,-382.5743 204,-374.0166\"/>\n<polygon fill=\"#000000\" stroke=\"#000000\" points=\"207.5001,-374.0132 204,-364.0133 200.5001,-374.0133 207.5001,-374.0132\"/>\n</g>\n<!-- 69 -->\n<g id=\"node29\" class=\"node\">\n<title>69</title>\n<ellipse fill=\"none\" stroke=\"#000000\" cx=\"287\" cy=\"-345.6\" rx=\"27\" ry=\"18\"/>\n<text text-anchor=\"middle\" x=\"287\" y=\"-341.9\" font-family=\"Times,serif\" font-size=\"14.00\" fill=\"#000000\">69</text>\n</g>\n<!-- 67&#45;&gt;69 -->\n<g id=\"edge28\" class=\"edge\">\n<title>67&#45;&gt;69</title>\n<path fill=\"none\" stroke=\"#000000\" d=\"M220.7963,-403.0297C232.7998,-392.617 249.1387,-378.4435 262.5811,-366.7827\"/>\n<polygon fill=\"#000000\" stroke=\"#000000\" points=\"265.2515,-369.0996 270.5119,-359.9029 260.6646,-363.8118 265.2515,-369.0996\"/>\n</g>\n<!-- null10 -->\n<g id=\"node23\" class=\"node\">\n<title>null10</title>\n<ellipse fill=\"#000000\" stroke=\"#000000\" cx=\"193\" cy=\"-273.6\" rx=\"1.8\" ry=\"1.8\"/>\n</g>\n<!-- 43&#45;&gt;null10 -->\n<g id=\"edge22\" class=\"edge\">\n<title>43&#45;&gt;null10</title>\n<path fill=\"none\" stroke=\"#000000\" d=\"M201.2242,-327.4314C199.2114,-314.2567 196.5474,-296.8195 194.8046,-285.4119\"/>\n<polygon fill=\"#000000\" stroke=\"#000000\" points=\"198.2462,-284.7634 193.276,-275.4068 191.3265,-285.8207 198.2462,-284.7634\"/>\n</g>\n<!-- 54 -->\n<g id=\"node24\" class=\"node\">\n<title>54</title>\n<ellipse fill=\"none\" stroke=\"#000000\" cx=\"240\" cy=\"-273.6\" rx=\"27\" ry=\"18\"/>\n<text text-anchor=\"middle\" x=\"240\" y=\"-269.9\" font-family=\"Times,serif\" font-size=\"14.00\" fill=\"#000000\">54</text>\n</g>\n<!-- 43&#45;&gt;54 -->\n<g id=\"edge23\" class=\"edge\">\n<title>43&#45;&gt;54</title>\n<path fill=\"none\" stroke=\"#000000\" d=\"M212.7146,-328.1708C216.9597,-319.6807 222.1536,-309.2929 226.8663,-299.8674\"/>\n<polygon fill=\"#000000\" stroke=\"#000000\" points=\"230.024,-301.3782 231.3657,-290.8687 223.763,-298.2477 230.024,-301.3782\"/>\n</g>\n<!-- null11 -->\n<g id=\"node25\" class=\"node\">\n<title>null11</title>\n<ellipse fill=\"#000000\" stroke=\"#000000\" cx=\"216\" cy=\"-201.6\" rx=\"1.8\" ry=\"1.8\"/>\n</g>\n<!-- 54&#45;&gt;null11 -->\n<g id=\"edge24\" class=\"edge\">\n<title>54&#45;&gt;null11</title>\n<path fill=\"none\" stroke=\"#000000\" d=\"M234.0674,-255.8022C229.6298,-242.4895 223.69,-224.67 219.8539,-213.1618\"/>\n<polygon fill=\"#000000\" stroke=\"#000000\" points=\"223.0918,-211.8071 216.609,-203.4271 216.451,-214.0208 223.0918,-211.8071\"/>\n</g>\n<!-- 62 -->\n<g id=\"node26\" class=\"node\">\n<title>62</title>\n<ellipse fill=\"none\" stroke=\"#000000\" cx=\"263\" cy=\"-201.6\" rx=\"27\" ry=\"18\"/>\n<text text-anchor=\"middle\" x=\"263\" y=\"-197.9\" font-family=\"Times,serif\" font-size=\"14.00\" fill=\"#000000\">62</text>\n</g>\n<!-- 54&#45;&gt;62 -->\n<g id=\"edge25\" class=\"edge\">\n<title>54&#45;&gt;62</title>\n<path fill=\"none\" stroke=\"#000000\" d=\"M245.6854,-255.8022C248.2563,-247.7541 251.3534,-238.0588 254.2132,-229.1067\"/>\n<polygon fill=\"#000000\" stroke=\"#000000\" points=\"257.5913,-230.0334 257.3003,-219.4425 250.9232,-227.9033 257.5913,-230.0334\"/>\n</g>\n<!-- null12 -->\n<g id=\"node27\" class=\"node\">\n<title>null12</title>\n<ellipse fill=\"#000000\" stroke=\"#000000\" cx=\"252\" cy=\"-129.6\" rx=\"1.8\" ry=\"1.8\"/>\n</g>\n<!-- 62&#45;&gt;null12 -->\n<g id=\"edge26\" class=\"edge\">\n<title>62&#45;&gt;null12</title>\n<path fill=\"none\" stroke=\"#000000\" d=\"M260.2242,-183.4314C258.2114,-170.2567 255.5474,-152.8195 253.8046,-141.4119\"/>\n<polygon fill=\"#000000\" stroke=\"#000000\" points=\"257.2462,-140.7634 252.276,-131.4068 250.3265,-141.8207 257.2462,-140.7634\"/>\n</g>\n<!-- null13 -->\n<g id=\"node28\" class=\"node\">\n<title>null13</title>\n<ellipse fill=\"#000000\" stroke=\"#000000\" cx=\"274\" cy=\"-129.6\" rx=\"1.8\" ry=\"1.8\"/>\n</g>\n<!-- 62&#45;&gt;null13 -->\n<g id=\"edge27\" class=\"edge\">\n<title>62&#45;&gt;null13</title>\n<path fill=\"none\" stroke=\"#000000\" d=\"M265.7758,-183.4314C267.7886,-170.2567 270.4526,-152.8195 272.1954,-141.4119\"/>\n<polygon fill=\"#000000\" stroke=\"#000000\" points=\"275.6735,-141.8207 273.724,-131.4068 268.7538,-140.7634 275.6735,-141.8207\"/>\n</g>\n<!-- null14 -->\n<g id=\"node30\" class=\"node\">\n<title>null14</title>\n<ellipse fill=\"#000000\" stroke=\"#000000\" cx=\"287\" cy=\"-273.6\" rx=\"1.8\" ry=\"1.8\"/>\n</g>\n<!-- 69&#45;&gt;null14 -->\n<g id=\"edge29\" class=\"edge\">\n<title>69&#45;&gt;null14</title>\n<path fill=\"none\" stroke=\"#000000\" d=\"M287,-327.4314C287,-314.2567 287,-296.8195 287,-285.4119\"/>\n<polygon fill=\"#000000\" stroke=\"#000000\" points=\"290.5001,-285.4067 287,-275.4068 283.5001,-285.4068 290.5001,-285.4067\"/>\n</g>\n<!-- 79 -->\n<g id=\"node31\" class=\"node\">\n<title>79</title>\n<ellipse fill=\"none\" stroke=\"#000000\" cx=\"334\" cy=\"-273.6\" rx=\"27\" ry=\"18\"/>\n<text text-anchor=\"middle\" x=\"334\" y=\"-269.9\" font-family=\"Times,serif\" font-size=\"14.00\" fill=\"#000000\">79</text>\n</g>\n<!-- 69&#45;&gt;79 -->\n<g id=\"edge30\" class=\"edge\">\n<title>69&#45;&gt;79</title>\n<path fill=\"none\" stroke=\"#000000\" d=\"M297.9009,-328.9008C303.7736,-319.9043 311.1366,-308.6247 317.6787,-298.6029\"/>\n<polygon fill=\"#000000\" stroke=\"#000000\" points=\"320.6228,-300.4957 323.1582,-290.2087 314.7611,-296.6693 320.6228,-300.4957\"/>\n</g>\n<!-- null15 -->\n<g id=\"node32\" class=\"node\">\n<title>null15</title>\n<ellipse fill=\"#000000\" stroke=\"#000000\" cx=\"310\" cy=\"-201.6\" rx=\"1.8\" ry=\"1.8\"/>\n</g>\n<!-- 79&#45;&gt;null15 -->\n<g id=\"edge31\" class=\"edge\">\n<title>79&#45;&gt;null15</title>\n<path fill=\"none\" stroke=\"#000000\" d=\"M328.0674,-255.8022C323.6298,-242.4895 317.69,-224.67 313.8539,-213.1618\"/>\n<polygon fill=\"#000000\" stroke=\"#000000\" points=\"317.0918,-211.8071 310.609,-203.4271 310.451,-214.0208 317.0918,-211.8071\"/>\n</g>\n<!-- 99 -->\n<g id=\"node33\" class=\"node\">\n<title>99</title>\n<ellipse fill=\"none\" stroke=\"#000000\" cx=\"357\" cy=\"-201.6\" rx=\"27\" ry=\"18\"/>\n<text text-anchor=\"middle\" x=\"357\" y=\"-197.9\" font-family=\"Times,serif\" font-size=\"14.00\" fill=\"#000000\">99</text>\n</g>\n<!-- 79&#45;&gt;99 -->\n<g id=\"edge32\" class=\"edge\">\n<title>79&#45;&gt;99</title>\n<path fill=\"none\" stroke=\"#000000\" d=\"M339.6854,-255.8022C342.2563,-247.7541 345.3534,-238.0588 348.2132,-229.1067\"/>\n<polygon fill=\"#000000\" stroke=\"#000000\" points=\"351.5913,-230.0334 351.3003,-219.4425 344.9232,-227.9033 351.5913,-230.0334\"/>\n</g>\n<!-- null16 -->\n<g id=\"node34\" class=\"node\">\n<title>null16</title>\n<ellipse fill=\"#000000\" stroke=\"#000000\" cx=\"346\" cy=\"-129.6\" rx=\"1.8\" ry=\"1.8\"/>\n</g>\n<!-- 99&#45;&gt;null16 -->\n<g id=\"edge33\" class=\"edge\">\n<title>99&#45;&gt;null16</title>\n<path fill=\"none\" stroke=\"#000000\" d=\"M354.2242,-183.4314C352.2114,-170.2567 349.5474,-152.8195 347.8046,-141.4119\"/>\n<polygon fill=\"#000000\" stroke=\"#000000\" points=\"351.2462,-140.7634 346.276,-131.4068 344.3265,-141.8207 351.2462,-140.7634\"/>\n</g>\n<!-- null17 -->\n<g id=\"node35\" class=\"node\">\n<title>null17</title>\n<ellipse fill=\"#000000\" stroke=\"#000000\" cx=\"368\" cy=\"-129.6\" rx=\"1.8\" ry=\"1.8\"/>\n</g>\n<!-- 99&#45;&gt;null17 -->\n<g id=\"edge34\" class=\"edge\">\n<title>99&#45;&gt;null17</title>\n<path fill=\"none\" stroke=\"#000000\" d=\"M359.7758,-183.4314C361.7886,-170.2567 364.4526,-152.8195 366.1954,-141.4119\"/>\n<polygon fill=\"#000000\" stroke=\"#000000\" points=\"369.6735,-141.8207 367.724,-131.4068 362.7538,-140.7634 369.6735,-141.8207\"/>\n</g>\n</g>\n</svg>\n"
          },
          "metadata": {
            "tags": []
          },
          "execution_count": 25
        }
      ]
    },
    {
      "cell_type": "code",
      "metadata": {
        "id": "PvR8ZLockdbl",
        "colab_type": "code",
        "colab": {
          "base_uri": "https://localhost:8080/",
          "height": 974
        },
        "outputId": "c88f3ba6-1bc1-442c-9229-0ca817806967"
      },
      "source": [
        "!cat bst.dot"
      ],
      "execution_count": 26,
      "outputs": [
        {
          "output_type": "stream",
          "text": [
            "digraph G {\n",
            "34->3\n",
            "3->1\n",
            "null0 [shape=point]\n",
            "1->null0\n",
            "null1 [shape=point]\n",
            "1->null1\n",
            "3->23\n",
            "23->4\n",
            "null2 [shape=point]\n",
            "4->null2\n",
            "4->20\n",
            "20->14\n",
            "14->12\n",
            "12->8\n",
            "null3 [shape=point]\n",
            "8->null3\n",
            "null4 [shape=point]\n",
            "8->null4\n",
            "null5 [shape=point]\n",
            "12->null5\n",
            "14->15\n",
            "null6 [shape=point]\n",
            "15->null6\n",
            "null7 [shape=point]\n",
            "15->null7\n",
            "null8 [shape=point]\n",
            "20->null8\n",
            "23->26\n",
            "null9 [shape=point]\n",
            "26->null9\n",
            "null10 [shape=point]\n",
            "26->null10\n",
            "34->67\n",
            "67->43\n",
            "null11 [shape=point]\n",
            "43->null11\n",
            "43->54\n",
            "null12 [shape=point]\n",
            "54->null12\n",
            "54->62\n",
            "null13 [shape=point]\n",
            "62->null13\n",
            "null14 [shape=point]\n",
            "62->null14\n",
            "67->69\n",
            "null15 [shape=point]\n",
            "69->null15\n",
            "69->79\n",
            "null16 [shape=point]\n",
            "79->null16\n",
            "79->99\n",
            "null17 [shape=point]\n",
            "99->null17\n",
            "null18 [shape=point]\n",
            "99->null18\n",
            "}"
          ],
          "name": "stdout"
        }
      ]
    },
    {
      "cell_type": "code",
      "metadata": {
        "id": "9ahV5kn6k5mB",
        "colab_type": "code",
        "colab": {}
      },
      "source": [
        ""
      ],
      "execution_count": 0,
      "outputs": []
    }
  ]
}