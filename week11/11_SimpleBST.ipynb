{
  "nbformat": 4,
  "nbformat_minor": 0,
  "metadata": {
    "colab": {
      "name": "11-SimpleBST.ipynb",
      "provenance": [],
      "collapsed_sections": [],
      "authorship_tag": "ABX9TyPmUsYW6D1ZzBSBSyin9oZi",
      "include_colab_link": true
    },
    "kernelspec": {
      "name": "python3",
      "display_name": "Python 3"
    }
  },
  "cells": [
    {
      "cell_type": "markdown",
      "metadata": {
        "id": "view-in-github",
        "colab_type": "text"
      },
      "source": [
        "<a href=\"https://colab.research.google.com/github/pcsilcan/aed/blob/master/week11/11_SimpleBST.ipynb\" target=\"_parent\"><img src=\"https://colab.research.google.com/assets/colab-badge.svg\" alt=\"Open In Colab\"/></a>"
      ]
    },
    {
      "cell_type": "code",
      "metadata": {
        "id": "VToC7MUJZRAZ",
        "colab_type": "code",
        "colab": {
          "base_uri": "https://localhost:8080/",
          "height": 34
        },
        "outputId": "c284d183-2754-4b64-f80e-1e507b8373c7"
      },
      "source": [
        "%%writefile simplebst.h\n",
        "\n",
        "#ifndef __SIMPLEBST_H__\n",
        "#define __SIMPLEBST_H__\n",
        "\n",
        "#include <functional>\n",
        "#include <string>\n",
        "#include <fstream>\n",
        "\n",
        "class SimpleBST {\n",
        "    struct Node {\n",
        "        float element;\n",
        "        Node* left;\n",
        "        Node* right;\n",
        "\n",
        "        Node(float elem)\n",
        "            : element(elem), left(nullptr), right(nullptr) {}\n",
        "    };\n",
        "\n",
        "    Node* root;\n",
        "public:\n",
        "    SimpleBST() : root(nullptr) {}\n",
        "    ~SimpleBST() {\n",
        "        clear(root);\n",
        "    }\n",
        "\n",
        "    void clear() {\n",
        "        clear(root);\n",
        "    }\n",
        "\n",
        "    void add(float elem) {\n",
        "        add(root, elem);\n",
        "    }\n",
        "\n",
        "    bool find(float elem) {\n",
        "        return find(root, elem);\n",
        "    }\n",
        "\n",
        "    void preorder(std::function<void(float)> proc) {\n",
        "        preorder(root, proc);\n",
        "    }\n",
        "\n",
        "    void postorder(std::function<void(float)> proc) {\n",
        "        postorder(root, proc);\n",
        "    }\n",
        "\n",
        "    void inorder(std::function<void(float)> proc) {\n",
        "        inorder(root, proc);\n",
        "    }\n",
        "\n",
        "// Ésto es solamente código para dibujar el árbol, no es parte del alcance del\n",
        "// curso, no será evaluado y no necesitan aprenderlo (a menos que quieran)!\n",
        "    void view(std::string filename) {\n",
        "        if (root != nullptr) {\n",
        "            std::ofstream file(filename);\n",
        "            int cont = 0;\n",
        "            file << \"digraph G {\\n\";\n",
        "            generate(root, file, cont);\n",
        "            file << \"}\";\n",
        "        }\n",
        "    }\n",
        "\n",
        "private:\n",
        "    void clear(Node* node) {\n",
        "        if (node != nullptr) {\n",
        "            clear(node->left);\n",
        "            clear(node->right);\n",
        "            delete node;\n",
        "            node = nullptr;\n",
        "        }\n",
        "    }\n",
        "\n",
        "    void add(Node*& node, float elem) {\n",
        "        if (node == nullptr) {\n",
        "            node = new Node(elem);\n",
        "        } else if (elem < node->element) {\n",
        "            add(node->left, elem);\n",
        "        } else if (elem > node->element) {\n",
        "            add(node->right, elem);\n",
        "        }\n",
        "    }\n",
        "\n",
        "    bool find(Node* node, float elem) {\n",
        "        if (node != nullptr) {\n",
        "            if (elem == node->element) {\n",
        "                return true;\n",
        "            } else if (elem < node->element) {\n",
        "                return find(node->left, elem);\n",
        "            } else {\n",
        "                return find(node->right, elem);\n",
        "            }\n",
        "        }\n",
        "        return false;\n",
        "    }\n",
        "\n",
        "    void preorder(Node* node, std::function<void(float)> proc) {\n",
        "        if (node != nullptr) {\n",
        "            proc(node->element);\n",
        "            preorder(node->left, proc);\n",
        "            preorder(node->right, proc);\n",
        "        }\n",
        "    }\n",
        "\n",
        "    void postorder(Node* node, std::function<void(float)> proc) {\n",
        "        if (node != nullptr) {\n",
        "            postorder(node->left, proc);\n",
        "            postorder(node->right, proc);\n",
        "            proc(node->element);\n",
        "        }\n",
        "    }\n",
        "\n",
        "    void inorder(Node* node, std::function<void(float)> proc) {\n",
        "        if (node != nullptr) {\n",
        "            inorder(node->left, proc);\n",
        "            proc(node->element);\n",
        "            inorder(node->right, proc);\n",
        "        }\n",
        "    }\n",
        "\n",
        "// Ésto es solamente código para dibujar el árbol, no es parte del alcance del\n",
        "// curso, no será evaluado y no necesitan aprenderlo (a menos que quieran)!\n",
        "    void generate(Node* node, std::ofstream& file, int& cont) {\n",
        "        if (node->left != nullptr) {\n",
        "            file << node->element << \"->\" << node->left->element << std::endl;\n",
        "            generate(node->left, file, cont);\n",
        "        } else {\n",
        "            file << \"null\" << cont << \" [shape=point]\\n\";\n",
        "            file << node->element << \"->null\" << cont << std::endl;\n",
        "            ++cont;\n",
        "        }\n",
        "        if (node->right != nullptr) {\n",
        "            file << node->element << \"->\" << node->right->element << std::endl;\n",
        "            generate(node->right, file, cont);\n",
        "        } else {\n",
        "            file << \"null\" << cont << \" [shape=point]\\n\";\n",
        "            file << node->element << \"->null\" << cont << std::endl;\n",
        "            ++cont;\n",
        "        }\n",
        "    }\n",
        "};\n",
        "\n",
        "#endif"
      ],
      "execution_count": 9,
      "outputs": [
        {
          "output_type": "stream",
          "text": [
            "Overwriting simplebst.h\n"
          ],
          "name": "stdout"
        }
      ]
    },
    {
      "cell_type": "code",
      "metadata": {
        "id": "P-ECjza2e3-9",
        "colab_type": "code",
        "colab": {
          "base_uri": "https://localhost:8080/",
          "height": 34
        },
        "outputId": "23c7b289-3d04-4238-c5e2-11849770699d"
      },
      "source": [
        "%%writefile simplebstTest.cpp\n",
        "\n",
        "#include <iostream>\n",
        "#include <vector>\n",
        "#include \"simplebst.h\"\n",
        "\n",
        "using namespace std;\n",
        "\n",
        "int main() {\n",
        "    SimpleBST* bst = new SimpleBST();\n",
        "\n",
        "    vector<int> v = {34, 3, 1, 67, 69, 23, 4, 79, 43,\n",
        "                     20, 14, 54, 12, 8, 99, 15, 62, 26 };\n",
        "            \n",
        "    for (auto num: v) {\n",
        "        bst->add(num);\n",
        "    }\n",
        "\n",
        "    auto print = [](float x) { cout << x << \" \"; };\n",
        "\n",
        "    bst->postorder(print); cout << endl;\n",
        "    bst->preorder(print); cout << endl;\n",
        "    bst->inorder(print); cout << endl;\n",
        "\n",
        "    cout << bst->find(100) << endl;\n",
        "    cout << bst->find(4) << endl;\n",
        "\n",
        "    bst->view(\"bst.dot\");\n",
        "\n",
        "    delete bst;\n",
        "    return 0;\n",
        "}"
      ],
      "execution_count": 5,
      "outputs": [
        {
          "output_type": "stream",
          "text": [
            "Overwriting simplebstTest.cpp\n"
          ],
          "name": "stdout"
        }
      ]
    },
    {
      "cell_type": "code",
      "metadata": {
        "id": "74IGjGmegQsQ",
        "colab_type": "code",
        "colab": {
          "base_uri": "https://localhost:8080/",
          "height": 101
        },
        "outputId": "87b9cb76-893e-496f-e713-a8e0f512491d"
      },
      "source": [
        "%%script bash\n",
        "\n",
        "g++ -std=c++17 *cpp && ./a.out"
      ],
      "execution_count": 10,
      "outputs": [
        {
          "output_type": "stream",
          "text": [
            "1 8 12 15 14 20 4 26 23 3 62 54 43 99 79 69 67 34 \n",
            "34 3 1 23 4 20 14 12 8 15 26 67 43 54 62 69 79 99 \n",
            "1 3 4 8 12 14 15 20 23 26 34 43 54 62 67 69 79 99 \n",
            "0\n",
            "1\n"
          ],
          "name": "stdout"
        }
      ]
    },
    {
      "cell_type": "code",
      "metadata": {
        "id": "7rf3TkihgePJ",
        "colab_type": "code",
        "colab": {
          "base_uri": "https://localhost:8080/",
          "height": 805
        },
        "outputId": "14b3b72b-fc77-4740-85d8-bd547819533d"
      },
      "source": [
        "import graphviz as gv\n",
        "gv.Source.from_file(\"bst.dot\")"
      ],
      "execution_count": 12,
      "outputs": [
        {
          "output_type": "execute_result",
          "data": {
            "text/plain": [
              "<graphviz.files.Source at 0x7f040b4d88d0>"
            ],
            "image/svg+xml": "<?xml version=\"1.0\" encoding=\"UTF-8\" standalone=\"no\"?>\n<!DOCTYPE svg PUBLIC \"-//W3C//DTD SVG 1.1//EN\"\n \"http://www.w3.org/Graphics/SVG/1.1/DTD/svg11.dtd\">\n<!-- Generated by graphviz version 2.40.1 (20161225.0304)\n -->\n<!-- Title: G Pages: 1 -->\n<svg width=\"407pt\" height=\"588pt\"\n viewBox=\"0.00 0.00 407.00 587.60\" xmlns=\"http://www.w3.org/2000/svg\" xmlns:xlink=\"http://www.w3.org/1999/xlink\">\n<g id=\"graph0\" class=\"graph\" transform=\"scale(1 1) rotate(0) translate(4 583.6)\">\n<title>G</title>\n<polygon fill=\"#ffffff\" stroke=\"transparent\" points=\"-4,4 -4,-583.6 403,-583.6 403,4 -4,4\"/>\n<!-- 34 -->\n<g id=\"node1\" class=\"node\">\n<title>34</title>\n<ellipse fill=\"none\" stroke=\"#000000\" cx=\"172\" cy=\"-561.6\" rx=\"27\" ry=\"18\"/>\n<text text-anchor=\"middle\" x=\"172\" y=\"-557.9\" font-family=\"Times,serif\" font-size=\"14.00\" fill=\"#000000\">34</text>\n</g>\n<!-- 3 -->\n<g id=\"node2\" class=\"node\">\n<title>3</title>\n<ellipse fill=\"none\" stroke=\"#000000\" cx=\"125\" cy=\"-489.6\" rx=\"27\" ry=\"18\"/>\n<text text-anchor=\"middle\" x=\"125\" y=\"-485.9\" font-family=\"Times,serif\" font-size=\"14.00\" fill=\"#000000\">3</text>\n</g>\n<!-- 34&#45;&gt;3 -->\n<g id=\"edge1\" class=\"edge\">\n<title>34&#45;&gt;3</title>\n<path fill=\"none\" stroke=\"#000000\" d=\"M161.0991,-544.9008C155.2264,-535.9043 147.8634,-524.6247 141.3213,-514.6029\"/>\n<polygon fill=\"#000000\" stroke=\"#000000\" points=\"144.2389,-512.6693 135.8418,-506.2087 138.3772,-516.4957 144.2389,-512.6693\"/>\n</g>\n<!-- 67 -->\n<g id=\"node23\" class=\"node\">\n<title>67</title>\n<ellipse fill=\"none\" stroke=\"#000000\" cx=\"219\" cy=\"-489.6\" rx=\"27\" ry=\"18\"/>\n<text text-anchor=\"middle\" x=\"219\" y=\"-485.9\" font-family=\"Times,serif\" font-size=\"14.00\" fill=\"#000000\">67</text>\n</g>\n<!-- 34&#45;&gt;67 -->\n<g id=\"edge22\" class=\"edge\">\n<title>34&#45;&gt;67</title>\n<path fill=\"none\" stroke=\"#000000\" d=\"M182.9009,-544.9008C188.7736,-535.9043 196.1366,-524.6247 202.6787,-514.6029\"/>\n<polygon fill=\"#000000\" stroke=\"#000000\" points=\"205.6228,-516.4957 208.1582,-506.2087 199.7611,-512.6693 205.6228,-516.4957\"/>\n</g>\n<!-- 1 -->\n<g id=\"node3\" class=\"node\">\n<title>1</title>\n<ellipse fill=\"none\" stroke=\"#000000\" cx=\"42\" cy=\"-417.6\" rx=\"27\" ry=\"18\"/>\n<text text-anchor=\"middle\" x=\"42\" y=\"-413.9\" font-family=\"Times,serif\" font-size=\"14.00\" fill=\"#000000\">1</text>\n</g>\n<!-- 3&#45;&gt;1 -->\n<g id=\"edge2\" class=\"edge\">\n<title>3&#45;&gt;1</title>\n<path fill=\"none\" stroke=\"#000000\" d=\"M108.2037,-475.0297C96.2002,-464.617 79.8613,-450.4435 66.4189,-438.7827\"/>\n<polygon fill=\"#000000\" stroke=\"#000000\" points=\"68.3354,-435.8118 58.4881,-431.9029 63.7485,-441.0996 68.3354,-435.8118\"/>\n</g>\n<!-- 23 -->\n<g id=\"node6\" class=\"node\">\n<title>23</title>\n<ellipse fill=\"none\" stroke=\"#000000\" cx=\"125\" cy=\"-417.6\" rx=\"27\" ry=\"18\"/>\n<text text-anchor=\"middle\" x=\"125\" y=\"-413.9\" font-family=\"Times,serif\" font-size=\"14.00\" fill=\"#000000\">23</text>\n</g>\n<!-- 3&#45;&gt;23 -->\n<g id=\"edge5\" class=\"edge\">\n<title>3&#45;&gt;23</title>\n<path fill=\"none\" stroke=\"#000000\" d=\"M125,-471.4314C125,-463.731 125,-454.5743 125,-446.0166\"/>\n<polygon fill=\"#000000\" stroke=\"#000000\" points=\"128.5001,-446.0132 125,-436.0133 121.5001,-446.0133 128.5001,-446.0132\"/>\n</g>\n<!-- null0 -->\n<g id=\"node4\" class=\"node\">\n<title>null0</title>\n<ellipse fill=\"#000000\" stroke=\"#000000\" cx=\"20\" cy=\"-345.6\" rx=\"1.8\" ry=\"1.8\"/>\n</g>\n<!-- 1&#45;&gt;null0 -->\n<g id=\"edge3\" class=\"edge\">\n<title>1&#45;&gt;null0</title>\n<path fill=\"none\" stroke=\"#000000\" d=\"M36.5618,-399.8022C32.494,-386.4895 27.0492,-368.67 23.5328,-357.1618\"/>\n<polygon fill=\"#000000\" stroke=\"#000000\" points=\"26.8278,-355.9678 20.5583,-347.4271 20.1333,-358.0134 26.8278,-355.9678\"/>\n</g>\n<!-- null1 -->\n<g id=\"node5\" class=\"node\">\n<title>null1</title>\n<ellipse fill=\"#000000\" stroke=\"#000000\" cx=\"42\" cy=\"-345.6\" rx=\"1.8\" ry=\"1.8\"/>\n</g>\n<!-- 1&#45;&gt;null1 -->\n<g id=\"edge4\" class=\"edge\">\n<title>1&#45;&gt;null1</title>\n<path fill=\"none\" stroke=\"#000000\" d=\"M42,-399.4314C42,-386.2567 42,-368.8195 42,-357.4119\"/>\n<polygon fill=\"#000000\" stroke=\"#000000\" points=\"45.5001,-357.4067 42,-347.4068 38.5001,-357.4068 45.5001,-357.4067\"/>\n</g>\n<!-- 4 -->\n<g id=\"node7\" class=\"node\">\n<title>4</title>\n<ellipse fill=\"none\" stroke=\"#000000\" cx=\"89\" cy=\"-345.6\" rx=\"27\" ry=\"18\"/>\n<text text-anchor=\"middle\" x=\"89\" y=\"-341.9\" font-family=\"Times,serif\" font-size=\"14.00\" fill=\"#000000\">4</text>\n</g>\n<!-- 23&#45;&gt;4 -->\n<g id=\"edge6\" class=\"edge\">\n<title>23&#45;&gt;4</title>\n<path fill=\"none\" stroke=\"#000000\" d=\"M116.2854,-400.1708C112.0403,-391.6807 106.8464,-381.2929 102.1337,-371.8674\"/>\n<polygon fill=\"#000000\" stroke=\"#000000\" points=\"105.237,-370.2477 97.6343,-362.8687 98.976,-373.3782 105.237,-370.2477\"/>\n</g>\n<!-- 26 -->\n<g id=\"node20\" class=\"node\">\n<title>26</title>\n<ellipse fill=\"none\" stroke=\"#000000\" cx=\"161\" cy=\"-345.6\" rx=\"27\" ry=\"18\"/>\n<text text-anchor=\"middle\" x=\"161\" y=\"-341.9\" font-family=\"Times,serif\" font-size=\"14.00\" fill=\"#000000\">26</text>\n</g>\n<!-- 23&#45;&gt;26 -->\n<g id=\"edge19\" class=\"edge\">\n<title>23&#45;&gt;26</title>\n<path fill=\"none\" stroke=\"#000000\" d=\"M133.7146,-400.1708C137.9597,-391.6807 143.1536,-381.2929 147.8663,-371.8674\"/>\n<polygon fill=\"#000000\" stroke=\"#000000\" points=\"151.024,-373.3782 152.3657,-362.8687 144.763,-370.2477 151.024,-373.3782\"/>\n</g>\n<!-- null2 -->\n<g id=\"node8\" class=\"node\">\n<title>null2</title>\n<ellipse fill=\"#000000\" stroke=\"#000000\" cx=\"49\" cy=\"-273.6\" rx=\"1.8\" ry=\"1.8\"/>\n</g>\n<!-- 4&#45;&gt;null2 -->\n<g id=\"edge7\" class=\"edge\">\n<title>4&#45;&gt;null2</title>\n<path fill=\"none\" stroke=\"#000000\" d=\"M79.5206,-328.537C71.8967,-314.814 61.4216,-295.9589 54.9378,-284.288\"/>\n<polygon fill=\"#000000\" stroke=\"#000000\" points=\"57.9539,-282.51 50.0379,-275.4681 51.8348,-285.9095 57.9539,-282.51\"/>\n</g>\n<!-- 20 -->\n<g id=\"node9\" class=\"node\">\n<title>20</title>\n<ellipse fill=\"none\" stroke=\"#000000\" cx=\"96\" cy=\"-273.6\" rx=\"27\" ry=\"18\"/>\n<text text-anchor=\"middle\" x=\"96\" y=\"-269.9\" font-family=\"Times,serif\" font-size=\"14.00\" fill=\"#000000\">20</text>\n</g>\n<!-- 4&#45;&gt;20 -->\n<g id=\"edge8\" class=\"edge\">\n<title>4&#45;&gt;20</title>\n<path fill=\"none\" stroke=\"#000000\" d=\"M90.7664,-327.4314C91.515,-319.731 92.4053,-310.5743 93.2373,-302.0166\"/>\n<polygon fill=\"#000000\" stroke=\"#000000\" points=\"96.7256,-302.3051 94.2098,-292.0133 89.7585,-301.6276 96.7256,-302.3051\"/>\n</g>\n<!-- 14 -->\n<g id=\"node10\" class=\"node\">\n<title>14</title>\n<ellipse fill=\"none\" stroke=\"#000000\" cx=\"72\" cy=\"-201.6\" rx=\"27\" ry=\"18\"/>\n<text text-anchor=\"middle\" x=\"72\" y=\"-197.9\" font-family=\"Times,serif\" font-size=\"14.00\" fill=\"#000000\">14</text>\n</g>\n<!-- 20&#45;&gt;14 -->\n<g id=\"edge9\" class=\"edge\">\n<title>20&#45;&gt;14</title>\n<path fill=\"none\" stroke=\"#000000\" d=\"M90.0674,-255.8022C87.3645,-247.6936 84.1043,-237.9129 81.1016,-228.9049\"/>\n<polygon fill=\"#000000\" stroke=\"#000000\" points=\"84.3471,-227.573 77.8643,-219.193 77.7063,-229.7867 84.3471,-227.573\"/>\n</g>\n<!-- null8 -->\n<g id=\"node19\" class=\"node\">\n<title>null8</title>\n<ellipse fill=\"#000000\" stroke=\"#000000\" cx=\"119\" cy=\"-201.6\" rx=\"1.8\" ry=\"1.8\"/>\n</g>\n<!-- 20&#45;&gt;null8 -->\n<g id=\"edge18\" class=\"edge\">\n<title>20&#45;&gt;null8</title>\n<path fill=\"none\" stroke=\"#000000\" d=\"M101.6854,-255.8022C105.9381,-242.4895 111.6304,-224.67 115.3066,-213.1618\"/>\n<polygon fill=\"#000000\" stroke=\"#000000\" points=\"118.7073,-214.018 118.4163,-203.4271 112.0393,-211.8878 118.7073,-214.018\"/>\n</g>\n<!-- 12 -->\n<g id=\"node11\" class=\"node\">\n<title>12</title>\n<ellipse fill=\"none\" stroke=\"#000000\" cx=\"36\" cy=\"-129.6\" rx=\"27\" ry=\"18\"/>\n<text text-anchor=\"middle\" x=\"36\" y=\"-125.9\" font-family=\"Times,serif\" font-size=\"14.00\" fill=\"#000000\">12</text>\n</g>\n<!-- 14&#45;&gt;12 -->\n<g id=\"edge10\" class=\"edge\">\n<title>14&#45;&gt;12</title>\n<path fill=\"none\" stroke=\"#000000\" d=\"M63.2854,-184.1708C59.0403,-175.6807 53.8464,-165.2929 49.1337,-155.8674\"/>\n<polygon fill=\"#000000\" stroke=\"#000000\" points=\"52.237,-154.2477 44.6343,-146.8687 45.976,-157.3782 52.237,-154.2477\"/>\n</g>\n<!-- 15 -->\n<g id=\"node16\" class=\"node\">\n<title>15</title>\n<ellipse fill=\"none\" stroke=\"#000000\" cx=\"108\" cy=\"-129.6\" rx=\"27\" ry=\"18\"/>\n<text text-anchor=\"middle\" x=\"108\" y=\"-125.9\" font-family=\"Times,serif\" font-size=\"14.00\" fill=\"#000000\">15</text>\n</g>\n<!-- 14&#45;&gt;15 -->\n<g id=\"edge15\" class=\"edge\">\n<title>14&#45;&gt;15</title>\n<path fill=\"none\" stroke=\"#000000\" d=\"M80.7146,-184.1708C84.9597,-175.6807 90.1536,-165.2929 94.8663,-155.8674\"/>\n<polygon fill=\"#000000\" stroke=\"#000000\" points=\"98.024,-157.3782 99.3657,-146.8687 91.763,-154.2477 98.024,-157.3782\"/>\n</g>\n<!-- 8 -->\n<g id=\"node12\" class=\"node\">\n<title>8</title>\n<ellipse fill=\"none\" stroke=\"#000000\" cx=\"27\" cy=\"-57.6\" rx=\"27\" ry=\"18\"/>\n<text text-anchor=\"middle\" x=\"27\" y=\"-53.9\" font-family=\"Times,serif\" font-size=\"14.00\" fill=\"#000000\">8</text>\n</g>\n<!-- 12&#45;&gt;8 -->\n<g id=\"edge11\" class=\"edge\">\n<title>12&#45;&gt;8</title>\n<path fill=\"none\" stroke=\"#000000\" d=\"M33.7289,-111.4314C32.7664,-103.731 31.6218,-94.5743 30.5521,-86.0166\"/>\n<polygon fill=\"#000000\" stroke=\"#000000\" points=\"34.0151,-85.5019 29.3017,-76.0133 27.0691,-86.3702 34.0151,-85.5019\"/>\n</g>\n<!-- null5 -->\n<g id=\"node15\" class=\"node\">\n<title>null5</title>\n<ellipse fill=\"#000000\" stroke=\"#000000\" cx=\"74\" cy=\"-57.6\" rx=\"1.8\" ry=\"1.8\"/>\n</g>\n<!-- 12&#45;&gt;null5 -->\n<g id=\"edge14\" class=\"edge\">\n<title>12&#45;&gt;null5</title>\n<path fill=\"none\" stroke=\"#000000\" d=\"M45.0055,-112.537C52.1727,-98.957 61.9925,-80.3511 68.1654,-68.6551\"/>\n<polygon fill=\"#000000\" stroke=\"#000000\" points=\"71.4417,-69.9457 73.014,-59.4681 65.251,-66.6783 71.4417,-69.9457\"/>\n</g>\n<!-- null3 -->\n<g id=\"node13\" class=\"node\">\n<title>null3</title>\n<ellipse fill=\"#000000\" stroke=\"#000000\" cx=\"16\" cy=\"-1.8\" rx=\"1.8\" ry=\"1.8\"/>\n</g>\n<!-- 8&#45;&gt;null3 -->\n<g id=\"edge12\" class=\"edge\">\n<title>8&#45;&gt;null3</title>\n<path fill=\"none\" stroke=\"#000000\" d=\"M23.459,-39.6374C21.7738,-31.0891 19.8064,-21.1091 18.3154,-13.5455\"/>\n<polygon fill=\"#000000\" stroke=\"#000000\" points=\"21.7174,-12.7061 16.3493,-3.5719 14.8496,-14.06 21.7174,-12.7061\"/>\n</g>\n<!-- null4 -->\n<g id=\"node14\" class=\"node\">\n<title>null4</title>\n<ellipse fill=\"#000000\" stroke=\"#000000\" cx=\"38\" cy=\"-1.8\" rx=\"1.8\" ry=\"1.8\"/>\n</g>\n<!-- 8&#45;&gt;null4 -->\n<g id=\"edge13\" class=\"edge\">\n<title>8&#45;&gt;null4</title>\n<path fill=\"none\" stroke=\"#000000\" d=\"M30.541,-39.6374C32.2262,-31.0891 34.1936,-21.1091 35.6846,-13.5455\"/>\n<polygon fill=\"#000000\" stroke=\"#000000\" points=\"39.1504,-14.06 37.6507,-3.5719 32.2826,-12.7061 39.1504,-14.06\"/>\n</g>\n<!-- null6 -->\n<g id=\"node17\" class=\"node\">\n<title>null6</title>\n<ellipse fill=\"#000000\" stroke=\"#000000\" cx=\"102\" cy=\"-57.6\" rx=\"1.8\" ry=\"1.8\"/>\n</g>\n<!-- 15&#45;&gt;null6 -->\n<g id=\"edge16\" class=\"edge\">\n<title>15&#45;&gt;null6</title>\n<path fill=\"none\" stroke=\"#000000\" d=\"M106.4859,-111.4314C105.3881,-98.2567 103.935,-80.8195 102.9843,-69.4119\"/>\n<polygon fill=\"#000000\" stroke=\"#000000\" points=\"106.469,-69.0815 102.1506,-59.4068 99.4932,-69.6629 106.469,-69.0815\"/>\n</g>\n<!-- null7 -->\n<g id=\"node18\" class=\"node\">\n<title>null7</title>\n<ellipse fill=\"#000000\" stroke=\"#000000\" cx=\"124\" cy=\"-57.6\" rx=\"1.8\" ry=\"1.8\"/>\n</g>\n<!-- 15&#45;&gt;null7 -->\n<g id=\"edge17\" class=\"edge\">\n<title>15&#45;&gt;null7</title>\n<path fill=\"none\" stroke=\"#000000\" d=\"M112.0375,-111.4314C114.9652,-98.2567 118.8401,-80.8195 121.3751,-69.4119\"/>\n<polygon fill=\"#000000\" stroke=\"#000000\" points=\"124.8458,-69.9279 123.5985,-59.4068 118.0125,-68.4094 124.8458,-69.9279\"/>\n</g>\n<!-- null9 -->\n<g id=\"node21\" class=\"node\">\n<title>null9</title>\n<ellipse fill=\"#000000\" stroke=\"#000000\" cx=\"155\" cy=\"-273.6\" rx=\"1.8\" ry=\"1.8\"/>\n</g>\n<!-- 26&#45;&gt;null9 -->\n<g id=\"edge20\" class=\"edge\">\n<title>26&#45;&gt;null9</title>\n<path fill=\"none\" stroke=\"#000000\" d=\"M159.4859,-327.4314C158.3881,-314.2567 156.935,-296.8195 155.9843,-285.4119\"/>\n<polygon fill=\"#000000\" stroke=\"#000000\" points=\"159.469,-285.0815 155.1506,-275.4068 152.4932,-285.6629 159.469,-285.0815\"/>\n</g>\n<!-- null10 -->\n<g id=\"node22\" class=\"node\">\n<title>null10</title>\n<ellipse fill=\"#000000\" stroke=\"#000000\" cx=\"177\" cy=\"-273.6\" rx=\"1.8\" ry=\"1.8\"/>\n</g>\n<!-- 26&#45;&gt;null10 -->\n<g id=\"edge21\" class=\"edge\">\n<title>26&#45;&gt;null10</title>\n<path fill=\"none\" stroke=\"#000000\" d=\"M165.0375,-327.4314C167.9652,-314.2567 171.8401,-296.8195 174.3751,-285.4119\"/>\n<polygon fill=\"#000000\" stroke=\"#000000\" points=\"177.8458,-285.9279 176.5985,-275.4068 171.0125,-284.4094 177.8458,-285.9279\"/>\n</g>\n<!-- 43 -->\n<g id=\"node24\" class=\"node\">\n<title>43</title>\n<ellipse fill=\"none\" stroke=\"#000000\" cx=\"219\" cy=\"-417.6\" rx=\"27\" ry=\"18\"/>\n<text text-anchor=\"middle\" x=\"219\" y=\"-413.9\" font-family=\"Times,serif\" font-size=\"14.00\" fill=\"#000000\">43</text>\n</g>\n<!-- 67&#45;&gt;43 -->\n<g id=\"edge23\" class=\"edge\">\n<title>67&#45;&gt;43</title>\n<path fill=\"none\" stroke=\"#000000\" d=\"M219,-471.4314C219,-463.731 219,-454.5743 219,-446.0166\"/>\n<polygon fill=\"#000000\" stroke=\"#000000\" points=\"222.5001,-446.0132 219,-436.0133 215.5001,-446.0133 222.5001,-446.0132\"/>\n</g>\n<!-- 69 -->\n<g id=\"node31\" class=\"node\">\n<title>69</title>\n<ellipse fill=\"none\" stroke=\"#000000\" cx=\"302\" cy=\"-417.6\" rx=\"27\" ry=\"18\"/>\n<text text-anchor=\"middle\" x=\"302\" y=\"-413.9\" font-family=\"Times,serif\" font-size=\"14.00\" fill=\"#000000\">69</text>\n</g>\n<!-- 67&#45;&gt;69 -->\n<g id=\"edge30\" class=\"edge\">\n<title>67&#45;&gt;69</title>\n<path fill=\"none\" stroke=\"#000000\" d=\"M235.7963,-475.0297C247.7998,-464.617 264.1387,-450.4435 277.5811,-438.7827\"/>\n<polygon fill=\"#000000\" stroke=\"#000000\" points=\"280.2515,-441.0996 285.5119,-431.9029 275.6646,-435.8118 280.2515,-441.0996\"/>\n</g>\n<!-- null11 -->\n<g id=\"node25\" class=\"node\">\n<title>null11</title>\n<ellipse fill=\"#000000\" stroke=\"#000000\" cx=\"208\" cy=\"-345.6\" rx=\"1.8\" ry=\"1.8\"/>\n</g>\n<!-- 43&#45;&gt;null11 -->\n<g id=\"edge24\" class=\"edge\">\n<title>43&#45;&gt;null11</title>\n<path fill=\"none\" stroke=\"#000000\" d=\"M216.2242,-399.4314C214.2114,-386.2567 211.5474,-368.8195 209.8046,-357.4119\"/>\n<polygon fill=\"#000000\" stroke=\"#000000\" points=\"213.2462,-356.7634 208.276,-347.4068 206.3265,-357.8207 213.2462,-356.7634\"/>\n</g>\n<!-- 54 -->\n<g id=\"node26\" class=\"node\">\n<title>54</title>\n<ellipse fill=\"none\" stroke=\"#000000\" cx=\"255\" cy=\"-345.6\" rx=\"27\" ry=\"18\"/>\n<text text-anchor=\"middle\" x=\"255\" y=\"-341.9\" font-family=\"Times,serif\" font-size=\"14.00\" fill=\"#000000\">54</text>\n</g>\n<!-- 43&#45;&gt;54 -->\n<g id=\"edge25\" class=\"edge\">\n<title>43&#45;&gt;54</title>\n<path fill=\"none\" stroke=\"#000000\" d=\"M227.7146,-400.1708C231.9597,-391.6807 237.1536,-381.2929 241.8663,-371.8674\"/>\n<polygon fill=\"#000000\" stroke=\"#000000\" points=\"245.024,-373.3782 246.3657,-362.8687 238.763,-370.2477 245.024,-373.3782\"/>\n</g>\n<!-- null12 -->\n<g id=\"node27\" class=\"node\">\n<title>null12</title>\n<ellipse fill=\"#000000\" stroke=\"#000000\" cx=\"231\" cy=\"-273.6\" rx=\"1.8\" ry=\"1.8\"/>\n</g>\n<!-- 54&#45;&gt;null12 -->\n<g id=\"edge26\" class=\"edge\">\n<title>54&#45;&gt;null12</title>\n<path fill=\"none\" stroke=\"#000000\" d=\"M249.0674,-327.8022C244.6298,-314.4895 238.69,-296.67 234.8539,-285.1618\"/>\n<polygon fill=\"#000000\" stroke=\"#000000\" points=\"238.0918,-283.8071 231.609,-275.4271 231.451,-286.0208 238.0918,-283.8071\"/>\n</g>\n<!-- 62 -->\n<g id=\"node28\" class=\"node\">\n<title>62</title>\n<ellipse fill=\"none\" stroke=\"#000000\" cx=\"278\" cy=\"-273.6\" rx=\"27\" ry=\"18\"/>\n<text text-anchor=\"middle\" x=\"278\" y=\"-269.9\" font-family=\"Times,serif\" font-size=\"14.00\" fill=\"#000000\">62</text>\n</g>\n<!-- 54&#45;&gt;62 -->\n<g id=\"edge27\" class=\"edge\">\n<title>54&#45;&gt;62</title>\n<path fill=\"none\" stroke=\"#000000\" d=\"M260.6854,-327.8022C263.2563,-319.7541 266.3534,-310.0588 269.2132,-301.1067\"/>\n<polygon fill=\"#000000\" stroke=\"#000000\" points=\"272.5913,-302.0334 272.3003,-291.4425 265.9232,-299.9033 272.5913,-302.0334\"/>\n</g>\n<!-- null13 -->\n<g id=\"node29\" class=\"node\">\n<title>null13</title>\n<ellipse fill=\"#000000\" stroke=\"#000000\" cx=\"267\" cy=\"-201.6\" rx=\"1.8\" ry=\"1.8\"/>\n</g>\n<!-- 62&#45;&gt;null13 -->\n<g id=\"edge28\" class=\"edge\">\n<title>62&#45;&gt;null13</title>\n<path fill=\"none\" stroke=\"#000000\" d=\"M275.2242,-255.4314C273.2114,-242.2567 270.5474,-224.8195 268.8046,-213.4119\"/>\n<polygon fill=\"#000000\" stroke=\"#000000\" points=\"272.2462,-212.7634 267.276,-203.4068 265.3265,-213.8207 272.2462,-212.7634\"/>\n</g>\n<!-- null14 -->\n<g id=\"node30\" class=\"node\">\n<title>null14</title>\n<ellipse fill=\"#000000\" stroke=\"#000000\" cx=\"289\" cy=\"-201.6\" rx=\"1.8\" ry=\"1.8\"/>\n</g>\n<!-- 62&#45;&gt;null14 -->\n<g id=\"edge29\" class=\"edge\">\n<title>62&#45;&gt;null14</title>\n<path fill=\"none\" stroke=\"#000000\" d=\"M280.7758,-255.4314C282.7886,-242.2567 285.4526,-224.8195 287.1954,-213.4119\"/>\n<polygon fill=\"#000000\" stroke=\"#000000\" points=\"290.6735,-213.8207 288.724,-203.4068 283.7538,-212.7634 290.6735,-213.8207\"/>\n</g>\n<!-- null15 -->\n<g id=\"node32\" class=\"node\">\n<title>null15</title>\n<ellipse fill=\"#000000\" stroke=\"#000000\" cx=\"302\" cy=\"-345.6\" rx=\"1.8\" ry=\"1.8\"/>\n</g>\n<!-- 69&#45;&gt;null15 -->\n<g id=\"edge31\" class=\"edge\">\n<title>69&#45;&gt;null15</title>\n<path fill=\"none\" stroke=\"#000000\" d=\"M302,-399.4314C302,-386.2567 302,-368.8195 302,-357.4119\"/>\n<polygon fill=\"#000000\" stroke=\"#000000\" points=\"305.5001,-357.4067 302,-347.4068 298.5001,-357.4068 305.5001,-357.4067\"/>\n</g>\n<!-- 79 -->\n<g id=\"node33\" class=\"node\">\n<title>79</title>\n<ellipse fill=\"none\" stroke=\"#000000\" cx=\"349\" cy=\"-345.6\" rx=\"27\" ry=\"18\"/>\n<text text-anchor=\"middle\" x=\"349\" y=\"-341.9\" font-family=\"Times,serif\" font-size=\"14.00\" fill=\"#000000\">79</text>\n</g>\n<!-- 69&#45;&gt;79 -->\n<g id=\"edge32\" class=\"edge\">\n<title>69&#45;&gt;79</title>\n<path fill=\"none\" stroke=\"#000000\" d=\"M312.9009,-400.9008C318.7736,-391.9043 326.1366,-380.6247 332.6787,-370.6029\"/>\n<polygon fill=\"#000000\" stroke=\"#000000\" points=\"335.6228,-372.4957 338.1582,-362.2087 329.7611,-368.6693 335.6228,-372.4957\"/>\n</g>\n<!-- null16 -->\n<g id=\"node34\" class=\"node\">\n<title>null16</title>\n<ellipse fill=\"#000000\" stroke=\"#000000\" cx=\"325\" cy=\"-273.6\" rx=\"1.8\" ry=\"1.8\"/>\n</g>\n<!-- 79&#45;&gt;null16 -->\n<g id=\"edge33\" class=\"edge\">\n<title>79&#45;&gt;null16</title>\n<path fill=\"none\" stroke=\"#000000\" d=\"M343.0674,-327.8022C338.6298,-314.4895 332.69,-296.67 328.8539,-285.1618\"/>\n<polygon fill=\"#000000\" stroke=\"#000000\" points=\"332.0918,-283.8071 325.609,-275.4271 325.451,-286.0208 332.0918,-283.8071\"/>\n</g>\n<!-- 99 -->\n<g id=\"node35\" class=\"node\">\n<title>99</title>\n<ellipse fill=\"none\" stroke=\"#000000\" cx=\"372\" cy=\"-273.6\" rx=\"27\" ry=\"18\"/>\n<text text-anchor=\"middle\" x=\"372\" y=\"-269.9\" font-family=\"Times,serif\" font-size=\"14.00\" fill=\"#000000\">99</text>\n</g>\n<!-- 79&#45;&gt;99 -->\n<g id=\"edge34\" class=\"edge\">\n<title>79&#45;&gt;99</title>\n<path fill=\"none\" stroke=\"#000000\" d=\"M354.6854,-327.8022C357.2563,-319.7541 360.3534,-310.0588 363.2132,-301.1067\"/>\n<polygon fill=\"#000000\" stroke=\"#000000\" points=\"366.5913,-302.0334 366.3003,-291.4425 359.9232,-299.9033 366.5913,-302.0334\"/>\n</g>\n<!-- null17 -->\n<g id=\"node36\" class=\"node\">\n<title>null17</title>\n<ellipse fill=\"#000000\" stroke=\"#000000\" cx=\"361\" cy=\"-201.6\" rx=\"1.8\" ry=\"1.8\"/>\n</g>\n<!-- 99&#45;&gt;null17 -->\n<g id=\"edge35\" class=\"edge\">\n<title>99&#45;&gt;null17</title>\n<path fill=\"none\" stroke=\"#000000\" d=\"M369.2242,-255.4314C367.2114,-242.2567 364.5474,-224.8195 362.8046,-213.4119\"/>\n<polygon fill=\"#000000\" stroke=\"#000000\" points=\"366.2462,-212.7634 361.276,-203.4068 359.3265,-213.8207 366.2462,-212.7634\"/>\n</g>\n<!-- null18 -->\n<g id=\"node37\" class=\"node\">\n<title>null18</title>\n<ellipse fill=\"#000000\" stroke=\"#000000\" cx=\"383\" cy=\"-201.6\" rx=\"1.8\" ry=\"1.8\"/>\n</g>\n<!-- 99&#45;&gt;null18 -->\n<g id=\"edge36\" class=\"edge\">\n<title>99&#45;&gt;null18</title>\n<path fill=\"none\" stroke=\"#000000\" d=\"M374.7758,-255.4314C376.7886,-242.2567 379.4526,-224.8195 381.1954,-213.4119\"/>\n<polygon fill=\"#000000\" stroke=\"#000000\" points=\"384.6735,-213.8207 382.724,-203.4068 377.7538,-212.7634 384.6735,-213.8207\"/>\n</g>\n</g>\n</svg>\n"
          },
          "metadata": {
            "tags": []
          },
          "execution_count": 12
        }
      ]
    },
    {
      "cell_type": "code",
      "metadata": {
        "id": "PvR8ZLockdbl",
        "colab_type": "code",
        "colab": {
          "base_uri": "https://localhost:8080/",
          "height": 974
        },
        "outputId": "cfd84974-3972-4b97-8bdf-f0acf5a87b3b"
      },
      "source": [
        "!cat bst.dot"
      ],
      "execution_count": 13,
      "outputs": [
        {
          "output_type": "stream",
          "text": [
            "digraph G {\n",
            "34->3\n",
            "3->1\n",
            "null0 [shape=point]\n",
            "1->null0\n",
            "null1 [shape=point]\n",
            "1->null1\n",
            "3->23\n",
            "23->4\n",
            "null2 [shape=point]\n",
            "4->null2\n",
            "4->20\n",
            "20->14\n",
            "14->12\n",
            "12->8\n",
            "null3 [shape=point]\n",
            "8->null3\n",
            "null4 [shape=point]\n",
            "8->null4\n",
            "null5 [shape=point]\n",
            "12->null5\n",
            "14->15\n",
            "null6 [shape=point]\n",
            "15->null6\n",
            "null7 [shape=point]\n",
            "15->null7\n",
            "null8 [shape=point]\n",
            "20->null8\n",
            "23->26\n",
            "null9 [shape=point]\n",
            "26->null9\n",
            "null10 [shape=point]\n",
            "26->null10\n",
            "34->67\n",
            "67->43\n",
            "null11 [shape=point]\n",
            "43->null11\n",
            "43->54\n",
            "null12 [shape=point]\n",
            "54->null12\n",
            "54->62\n",
            "null13 [shape=point]\n",
            "62->null13\n",
            "null14 [shape=point]\n",
            "62->null14\n",
            "67->69\n",
            "null15 [shape=point]\n",
            "69->null15\n",
            "69->79\n",
            "null16 [shape=point]\n",
            "79->null16\n",
            "79->99\n",
            "null17 [shape=point]\n",
            "99->null17\n",
            "null18 [shape=point]\n",
            "99->null18\n",
            "}"
          ],
          "name": "stdout"
        }
      ]
    },
    {
      "cell_type": "code",
      "metadata": {
        "id": "9ahV5kn6k5mB",
        "colab_type": "code",
        "colab": {}
      },
      "source": [
        ""
      ],
      "execution_count": 0,
      "outputs": []
    }
  ]
}