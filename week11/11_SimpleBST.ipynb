{
  "nbformat": 4,
  "nbformat_minor": 0,
  "metadata": {
    "colab": {
      "name": "11-SimpleBST.ipynb",
      "provenance": [],
      "collapsed_sections": [],
      "authorship_tag": "ABX9TyO6KGPGibQiT6uiisausZbX",
      "include_colab_link": true
    },
    "kernelspec": {
      "name": "python3",
      "display_name": "Python 3"
    }
  },
  "cells": [
    {
      "cell_type": "markdown",
      "metadata": {
        "id": "view-in-github",
        "colab_type": "text"
      },
      "source": [
        "<a href=\"https://colab.research.google.com/github/pcsilcan/aed/blob/master/week11/11_SimpleBST.ipynb\" target=\"_parent\"><img src=\"https://colab.research.google.com/assets/colab-badge.svg\" alt=\"Open In Colab\"/></a>"
      ]
    },
    {
      "cell_type": "code",
      "metadata": {
        "id": "1868G5nDF40L",
        "colab_type": "code",
        "colab": {
          "base_uri": "https://localhost:8080/",
          "height": 34
        },
        "outputId": "243ef4b7-7e86-4255-9593-38f43612b9a9"
      },
      "source": [
        "%%writefile simplebst.h\n",
        "\n",
        "#ifndef __SIMPLEBST_H__\n",
        "#define __SIMPLEBST_H__\n",
        "\n",
        "#include <functional>\n",
        "\n",
        "class BST {\n",
        "    struct Node {\n",
        "        float element;\n",
        "        Node* left;\n",
        "        Node* right;\n",
        "\n",
        "        Node(float element)\n",
        "            : element(element), left(nullptr), right(nullptr) {}\n",
        "    };\n",
        "\n",
        "    Node* root;\n",
        "    int len;\n",
        "\n",
        "public:\n",
        "    BST() : root(nullptr), len(0) {}\n",
        "    ~BST() {\n",
        "        clear(root);\n",
        "    }\n",
        "\n",
        "    void add(float elem) {\n",
        "        add(root, elem);\n",
        "    }\n",
        "\n",
        "    bool find(float elem) {\n",
        "        find(root, elem);\n",
        "    }\n",
        "\n",
        "    void preorder(std::function<void(float)> proc) {\n",
        "        preorder(root, proc);\n",
        "    }\n",
        "\n",
        "    void postorder(std::function<void(float)> proc) {\n",
        "        postorder(root, proc);\n",
        "    }\n",
        "\n",
        "    void inorder(std::function<void(float)> proc) {\n",
        "        inorder(root, proc);\n",
        "    }\n",
        "\n",
        "private:\n",
        "    void clear(Node* node) {\n",
        "        if (node != nullptr) {\n",
        "            clear(node->left);\n",
        "            clear(node->right);\n",
        "            delete node;\n",
        "        }\n",
        "    }\n",
        "\n",
        "    void add(Node*& node, float elem) {\n",
        "        if (node == nullptr) {\n",
        "            node = new Node(elem);\n",
        "        } else if (elem < node->element) {\n",
        "            add(node->left, elem);\n",
        "        } else {\n",
        "            add(node->right, elem);\n",
        "        }\n",
        "    }\n",
        "\n",
        "    bool find(Node* node, float elem) {\n",
        "        if (node != nullptr) {\n",
        "            if (elem == node->element) {\n",
        "                return true;\n",
        "            } else if (elem < node->element) {\n",
        "                return find(node->left, elem);\n",
        "            } else {\n",
        "                return find(node->right, elem);\n",
        "            }\n",
        "        } else {\n",
        "            return false;\n",
        "        }\n",
        "    }\n",
        "\n",
        "    void preorder(Node* node, std::function<void(float)> proc) {\n",
        "        if (node != nullptr) {\n",
        "            preorder(node->left, proc);\n",
        "            preorder(node->right, proc);\n",
        "            proc(node->element);\n",
        "        }\n",
        "    }\n",
        "\n",
        "    void postorder(Node* node, std::function<void(float)> proc) {\n",
        "        if (node != nullptr) {\n",
        "            proc(node->element);\n",
        "            postorder(node->left, proc);\n",
        "            postorder(node->right, proc);\n",
        "        }\n",
        "    }\n",
        "\n",
        "    void inorder(Node* node, std::function<void(float)> proc) {\n",
        "        if (node != nullptr) {\n",
        "            inorder(node->left, proc);\n",
        "            proc(node->element);\n",
        "            inorder(node->right, proc);\n",
        "        }\n",
        "    }\n",
        "};\n",
        "\n",
        "#endif"
      ],
      "execution_count": 13,
      "outputs": [
        {
          "output_type": "stream",
          "text": [
            "Overwriting simplebst.h\n"
          ],
          "name": "stdout"
        }
      ]
    },
    {
      "cell_type": "code",
      "metadata": {
        "id": "r3ByIXObMF8x",
        "colab_type": "code",
        "colab": {
          "base_uri": "https://localhost:8080/",
          "height": 34
        },
        "outputId": "2f7e157e-d43e-4e1a-fd7c-93908fc33bff"
      },
      "source": [
        "%%writefile bstTest.cpp\n",
        "\n",
        "#include <iostream>\n",
        "#include \"simplebst.h\"\n",
        "\n",
        "using namespace std;\n",
        "\n",
        "int main() {\n",
        "    BST* bst = new BST();\n",
        "    bst->add(1);\n",
        "    bst->add(12);\n",
        "    bst->add(34);\n",
        "    bst->add(61);\n",
        "    bst->add(85);\n",
        "    bst->add(52);\n",
        "    bst->add(92);\n",
        "    bst->add(2);\n",
        "    bst->add(6);\n",
        "    bst->add(10);\n",
        "    bst->add(45);\n",
        "    bst->add(78);\n",
        "    bst->add(96);\n",
        "    bst->add(33);\n",
        "    bst->add(10);\n",
        "    bst->add(71);\n",
        "    bst->add(8);\n",
        "    bst->add(13);\n",
        "\n",
        "    auto print = [](float x) { cout << x << \" \"; };\n",
        "    bst->preorder(print); cout << endl;\n",
        "    bst->postorder(print); cout << endl;\n",
        "    bst->inorder(print); cout << endl;\n",
        "\n",
        "    cout << bst->find(52) << endl;\n",
        "    cout << bst->find(100) << endl;\n",
        "\n",
        "    delete bst;\n",
        "    return 0;\n",
        "}"
      ],
      "execution_count": 9,
      "outputs": [
        {
          "output_type": "stream",
          "text": [
            "Writing bstTest.cpp\n"
          ],
          "name": "stdout"
        }
      ]
    },
    {
      "cell_type": "code",
      "metadata": {
        "id": "TLNkzXBWF64Z",
        "colab_type": "code",
        "colab": {
          "base_uri": "https://localhost:8080/",
          "height": 101
        },
        "outputId": "9eb6574b-8443-4160-95ca-8d146698ab86"
      },
      "source": [
        "%%script bash\n",
        "\n",
        "g++ -std=c++17 *.cpp && ./a.out"
      ],
      "execution_count": 14,
      "outputs": [
        {
          "output_type": "stream",
          "text": [
            "8 10 10 6 2 13 33 45 52 71 78 96 92 85 61 34 12 1 \n",
            "1 12 2 6 10 8 10 34 33 13 61 52 45 85 78 71 92 96 \n",
            "1 2 6 8 10 10 12 13 33 34 45 52 61 71 78 85 92 96 \n",
            "1\n",
            "0\n"
          ],
          "name": "stdout"
        }
      ]
    },
    {
      "cell_type": "code",
      "metadata": {
        "id": "GR1921PqNfQj",
        "colab_type": "code",
        "colab": {}
      },
      "source": [
        ""
      ],
      "execution_count": 0,
      "outputs": []
    }
  ]
}